{
  "nbformat": 4,
  "nbformat_minor": 0,
  "metadata": {
    "colab": {
      "name": "01-first-concepts.ipynb",
      "provenance": [],
      "toc_visible": true,
      "authorship_tag": "ABX9TyMtEz5c6vcTLD1A27+aMTJf",
      "include_colab_link": true
    },
    "kernelspec": {
      "name": "python3",
      "display_name": "Python 3"
    },
    "language_info": {
      "name": "python"
    }
  },
  "cells": [
    {
      "cell_type": "markdown",
      "metadata": {
        "id": "view-in-github",
        "colab_type": "text"
      },
      "source": [
        "<a href=\"https://colab.research.google.com/github/sim-mautner/cs1010-22t2/blob/main/lectures/03-python-and-programming-fundamentals/01-first-concepts.ipynb\" target=\"_parent\"><img src=\"https://colab.research.google.com/assets/colab-badge.svg\" alt=\"Open In Colab\"/></a>"
      ]
    },
    {
      "cell_type": "markdown",
      "metadata": {
        "id": "DZASYuPR5kI3"
      },
      "source": [
        "> Topic 3<br>\n",
        "> Python and Programming Fundamentals<br>\n",
        "> Week 1-3\n",
        "\n",
        "> Topic 3.1<br>\n",
        "> First Concepts"
      ]
    },
    {
      "cell_type": "markdown",
      "metadata": {
        "id": "Jg4-Rn-Hozhy"
      },
      "source": [
        "# 1 - Introduction to Python, Programming, and Variables"
      ]
    },
    {
      "cell_type": "markdown",
      "metadata": {
        "id": "Xbo0-z1AolkY"
      },
      "source": [
        "## First Python program\n",
        "\n",
        "What is 1 + 1?"
      ]
    },
    {
      "cell_type": "code",
      "metadata": {
        "id": "THwccXjCnnQO",
        "outputId": "47cc2665-d7fb-4099-bf6d-e14a6d0caaa7",
        "colab": {
          "base_uri": "https://localhost:8080/"
        }
      },
      "source": [
        "1+1"
      ],
      "execution_count": 1,
      "outputs": [
        {
          "output_type": "execute_result",
          "data": {
            "text/plain": [
              "2"
            ]
          },
          "metadata": {},
          "execution_count": 1
        }
      ]
    },
    {
      "cell_type": "markdown",
      "metadata": {
        "id": "B8Jm8OlNnxBO"
      },
      "source": [
        "A shop is 12 metres by 8 metres. Social distancing rules say that there should be no more than 1 person for every 4 square meters. How many people can be in the shop at once?"
      ]
    },
    {
      "cell_type": "code",
      "metadata": {
        "id": "u-YAkdXHorg9",
        "outputId": "a495262d-4909-4a15-98a1-9ac5991890da",
        "colab": {
          "base_uri": "https://localhost:8080/"
        }
      },
      "source": [
        "total_shop_area = 12 * 8\n",
        "people_allowed = total_shop_area / 4\n",
        "people_allowed"
      ],
      "execution_count": null,
      "outputs": [
        {
          "output_type": "execute_result",
          "data": {
            "text/plain": [
              "24.0"
            ]
          },
          "metadata": {},
          "execution_count": 2
        }
      ]
    },
    {
      "cell_type": "code",
      "source": [
        "12*8/4"
      ],
      "metadata": {
        "id": "tLHu991Y0mcC",
        "outputId": "d33af2e8-d06d-4493-ce58-3e3c990fa164",
        "colab": {
          "base_uri": "https://localhost:8080/"
        }
      },
      "execution_count": null,
      "outputs": [
        {
          "output_type": "execute_result",
          "data": {
            "text/plain": [
              "24.0"
            ]
          },
          "metadata": {},
          "execution_count": 3
        }
      ]
    },
    {
      "cell_type": "markdown",
      "metadata": {
        "id": "gQWg9GNDnyDc"
      },
      "source": [
        "A student has received marks for a course. They got:\n",
        "\n",
        "* 75% in the first assignment, which is worth 20% of the course mark\n",
        "* 80% in the second assignment, which is worth 30% of the course mark\n",
        "* 60% in the final exam, which is worth 50% of the course mark\n",
        "\n",
        "What is their overall course mark?"
      ]
    },
    {
      "cell_type": "code",
      "metadata": {
        "id": "SsxQ76EWosFG",
        "outputId": "87d831af-b947-4bd9-c028-4916ae33ddba",
        "colab": {
          "base_uri": "https://localhost:8080/"
        }
      },
      "source": [
        "75*.2 + 80*.3 + 60*.5"
      ],
      "execution_count": null,
      "outputs": [
        {
          "output_type": "execute_result",
          "data": {
            "text/plain": [
              "69.0"
            ]
          },
          "metadata": {},
          "execution_count": 4
        }
      ]
    },
    {
      "cell_type": "markdown",
      "metadata": {
        "id": "MG-14GJOwXUr"
      },
      "source": [
        "## Python on the Forums\n",
        "\n",
        "You can copy blocks of Python code into a forum post, using the <> button."
      ]
    },
    {
      "cell_type": "markdown",
      "metadata": {
        "id": "K8WHDxJqwalo"
      },
      "source": [
        "## Variables\n",
        "\n",
        "* To some extent, **variables** are comparable to the cells on a spreadsheet.\n",
        "* You can also think of them as a box. With a label on it.\n",
        "* We can put a **value** into a variable. And change it as needed."
      ]
    },
    {
      "cell_type": "markdown",
      "metadata": {
        "id": "wXzRcKCDxEmw"
      },
      "source": [
        "Create a variable."
      ]
    },
    {
      "cell_type": "code",
      "metadata": {
        "id": "uE3HprTDwaQq"
      },
      "source": [
        "x = 5"
      ],
      "execution_count": null,
      "outputs": []
    },
    {
      "cell_type": "code",
      "source": [
        "x"
      ],
      "metadata": {
        "id": "AaDFNITU18qr",
        "outputId": "16e9807c-ee65-41ee-856c-47090a013589",
        "colab": {
          "base_uri": "https://localhost:8080/"
        }
      },
      "execution_count": null,
      "outputs": [
        {
          "output_type": "execute_result",
          "data": {
            "text/plain": [
              "5"
            ]
          },
          "metadata": {},
          "execution_count": 6
        }
      ]
    },
    {
      "cell_type": "markdown",
      "metadata": {
        "id": "SlpQ9f_3xBy3"
      },
      "source": [
        "Change the value in the variable."
      ]
    },
    {
      "cell_type": "code",
      "metadata": {
        "id": "hcXApHWkxBFt",
        "outputId": "c8559ed7-72c0-45e8-e7ee-8138aebf35c2",
        "colab": {
          "base_uri": "https://localhost:8080/"
        }
      },
      "source": [
        "x = 10\n",
        "x"
      ],
      "execution_count": null,
      "outputs": [
        {
          "output_type": "execute_result",
          "data": {
            "text/plain": [
              "10"
            ]
          },
          "metadata": {},
          "execution_count": 7
        }
      ]
    },
    {
      "cell_type": "markdown",
      "metadata": {
        "id": "E9h80tMqxAfa"
      },
      "source": [
        "Take the value in the variable, add 1 to it, and store it back into the variable."
      ]
    },
    {
      "cell_type": "code",
      "metadata": {
        "id": "B5zOon5sxSQo",
        "outputId": "215e8fad-729a-4cfe-8ab0-f22228d7ba91",
        "colab": {
          "base_uri": "https://localhost:8080/"
        }
      },
      "source": [
        "x = x + 1\n",
        "x"
      ],
      "execution_count": null,
      "outputs": [
        {
          "output_type": "execute_result",
          "data": {
            "text/plain": [
              "11"
            ]
          },
          "metadata": {},
          "execution_count": 8
        }
      ]
    },
    {
      "cell_type": "markdown",
      "metadata": {
        "id": "xMU9bIVoShPT"
      },
      "source": [
        "See slides for a step by step of what's happening here."
      ]
    },
    {
      "cell_type": "markdown",
      "metadata": {
        "id": "DbEnqaUnwfZp"
      },
      "source": [
        "## Variable Naming\n",
        "\n",
        "See slides on Code Style [here](https://hackmd.io/@sim/Sy1054OFO#/)."
      ]
    },
    {
      "cell_type": "markdown",
      "metadata": {
        "id": "KhmKoARh8t28"
      },
      "source": [
        "## Order Matters\n",
        "\n",
        "* A computer program is a set of instructions.\n",
        "* Like the method of a recipe, the order in which the instructions are given, and executed, matters.\n",
        "\n",
        "Before running the code below, try and guess the value of x at the end of the program."
      ]
    },
    {
      "cell_type": "markdown",
      "metadata": {
        "id": "I5MdZlSL9Wmx"
      },
      "source": [
        "Guess:\n",
        "\n",
        "Actual:"
      ]
    },
    {
      "cell_type": "code",
      "metadata": {
        "id": "91MT0mX19Hfz",
        "outputId": "ff1b1f3f-3c7f-4dc7-f35b-2e0a1321ee7d",
        "colab": {
          "base_uri": "https://localhost:8080/"
        }
      },
      "source": [
        "x = 0\n",
        "x = x + 1\n",
        "x = 5\n",
        "x"
      ],
      "execution_count": null,
      "outputs": [
        {
          "output_type": "execute_result",
          "data": {
            "text/plain": [
              "5"
            ]
          },
          "metadata": {},
          "execution_count": 12
        }
      ]
    },
    {
      "cell_type": "markdown",
      "metadata": {
        "id": "QQh8ziTO9Y9N"
      },
      "source": [
        "Guess:\n",
        "\n",
        "Actual:"
      ]
    },
    {
      "cell_type": "code",
      "metadata": {
        "id": "O-hFzb389Hza",
        "outputId": "e0bf927c-0063-436b-f966-9aea8a1261e2",
        "colab": {
          "base_uri": "https://localhost:8080/"
        }
      },
      "source": [
        "x = 0\n",
        "x = 5\n",
        "x = x + 1\n",
        "x"
      ],
      "execution_count": null,
      "outputs": [
        {
          "output_type": "execute_result",
          "data": {
            "text/plain": [
              "6"
            ]
          },
          "metadata": {},
          "execution_count": 13
        }
      ]
    },
    {
      "cell_type": "markdown",
      "metadata": {
        "id": "VVcWvNsW0FM5"
      },
      "source": [
        "## Comments\n",
        "\n",
        "* Ignored by the computer\n",
        "* Start with a `#`\n",
        "* Used to help programmers read and understand their code (and make notes for themselves to come back and do things later)"
      ]
    },
    {
      "cell_type": "code",
      "metadata": {
        "id": "SSMZ3kJo0aKI",
        "outputId": "42ef827f-844a-41ae-8517-53868f0bc99f",
        "colab": {
          "base_uri": "https://localhost:8080/"
        }
      },
      "source": [
        "# This is not a comment\n",
        "# this is a comment\n",
        "x = 0\n",
        "x += 1 # This is the same as saying x = x + 1\n",
        "print(x)"
      ],
      "execution_count": null,
      "outputs": [
        {
          "output_type": "stream",
          "name": "stdout",
          "text": [
            "1\n"
          ]
        }
      ]
    },
    {
      "cell_type": "markdown",
      "metadata": {
        "id": "vOBvioy3WDO_"
      },
      "source": [
        "## Learning Programming - What happens if... ?\n",
        "\n",
        "* A big part of programming is \"trying stuff and seeing what works\".\n",
        "* Ask questions.\n",
        "* Investigate.\n",
        "* Optional: Record your answers in your journal."
      ]
    },
    {
      "cell_type": "markdown",
      "metadata": {
        "id": "deE821kTx16Q"
      },
      "source": [
        "# 2 - Strings\n",
        "\n",
        "* A **string** is a sequence of characters.\n",
        "* A **character** is a letter, or space, or piece of punctuation.\n",
        "* Basically, text.\n",
        "* It is held together by quotes."
      ]
    },
    {
      "cell_type": "code",
      "metadata": {
        "id": "yIuLLiVrzDrN",
        "outputId": "03e803d1-bf5d-49cf-93ac-288e8fa6ada0",
        "colab": {
          "base_uri": "https://localhost:8080/",
          "height": 36
        }
      },
      "source": [
        "\"Hello\""
      ],
      "execution_count": null,
      "outputs": [
        {
          "output_type": "execute_result",
          "data": {
            "text/plain": [
              "'Hello'"
            ],
            "application/vnd.google.colaboratory.intrinsic+json": {
              "type": "string"
            }
          },
          "metadata": {},
          "execution_count": 22
        }
      ]
    },
    {
      "cell_type": "code",
      "source": [
        "'Hello'"
      ],
      "metadata": {
        "id": "Pb1FqORr6u8O",
        "outputId": "9d4d5f40-a8e4-4979-e046-1c8e9b9126d2",
        "colab": {
          "base_uri": "https://localhost:8080/",
          "height": 36
        }
      },
      "execution_count": null,
      "outputs": [
        {
          "output_type": "execute_result",
          "data": {
            "text/plain": [
              "'Hello'"
            ],
            "application/vnd.google.colaboratory.intrinsic+json": {
              "type": "string"
            }
          },
          "metadata": {},
          "execution_count": 23
        }
      ]
    },
    {
      "cell_type": "code",
      "source": [
        "\"Hello there\""
      ],
      "metadata": {
        "id": "LdhlktiE6wsB",
        "outputId": "ee82f9b0-d9de-4b0b-b777-ac03d880c03c",
        "colab": {
          "base_uri": "https://localhost:8080/",
          "height": 36
        }
      },
      "execution_count": null,
      "outputs": [
        {
          "output_type": "execute_result",
          "data": {
            "text/plain": [
              "'Hello there'"
            ],
            "application/vnd.google.colaboratory.intrinsic+json": {
              "type": "string"
            }
          },
          "metadata": {},
          "execution_count": 24
        }
      ]
    },
    {
      "cell_type": "code",
      "source": [
        "\"This is quite a long piece of text. It even has some punctuation...\""
      ],
      "metadata": {
        "id": "y17mP5hP6yUJ",
        "outputId": "65ac5b01-2931-41fe-ca81-a2238b57b65d",
        "colab": {
          "base_uri": "https://localhost:8080/",
          "height": 36
        }
      },
      "execution_count": null,
      "outputs": [
        {
          "output_type": "execute_result",
          "data": {
            "text/plain": [
              "'This is quite a long piece of text. It even has some punctuation...'"
            ],
            "application/vnd.google.colaboratory.intrinsic+json": {
              "type": "string"
            }
          },
          "metadata": {},
          "execution_count": 25
        }
      ]
    },
    {
      "cell_type": "markdown",
      "metadata": {
        "id": "g8GMlICtykMa"
      },
      "source": [
        "What happens if we want to have quotes inside our string?"
      ]
    },
    {
      "cell_type": "code",
      "metadata": {
        "id": "422x2l-ByXdy",
        "outputId": "17d068ef-04e8-43e3-e4d8-9ebc996ea207",
        "colab": {
          "base_uri": "https://localhost:8080/",
          "height": 132
        }
      },
      "source": [
        "# Try it\n",
        "\"Some text \"with some quotes\" in it.\""
      ],
      "execution_count": null,
      "outputs": [
        {
          "output_type": "error",
          "ename": "SyntaxError",
          "evalue": "ignored",
          "traceback": [
            "\u001b[0;36m  File \u001b[0;32m\"<ipython-input-26-f921de502602>\"\u001b[0;36m, line \u001b[0;32m2\u001b[0m\n\u001b[0;31m    \"Some text \"with some quotes\" in it.\"\u001b[0m\n\u001b[0m                   ^\u001b[0m\n\u001b[0;31mSyntaxError\u001b[0m\u001b[0;31m:\u001b[0m invalid syntax\n"
          ]
        }
      ]
    },
    {
      "cell_type": "code",
      "source": [
        "# Use different kinds of quotes\n",
        "'Some text \"with some quotes\" in it.'"
      ],
      "metadata": {
        "id": "PyBZehxA7CPx",
        "outputId": "29a07af7-f6a5-4a59-e7d0-4d739f913cd7",
        "colab": {
          "base_uri": "https://localhost:8080/",
          "height": 36
        }
      },
      "execution_count": null,
      "outputs": [
        {
          "output_type": "execute_result",
          "data": {
            "text/plain": [
              "'Some text \"with some quotes\" in it.'"
            ],
            "application/vnd.google.colaboratory.intrinsic+json": {
              "type": "string"
            }
          },
          "metadata": {},
          "execution_count": 27
        }
      ]
    },
    {
      "cell_type": "code",
      "source": [
        "# What about apostrophes?\n",
        "\"There's a pen on my desk.\""
      ],
      "metadata": {
        "id": "JK993upA7H0R",
        "outputId": "142cffc0-c41a-4048-ddf2-7e254fca4363",
        "colab": {
          "base_uri": "https://localhost:8080/",
          "height": 36
        }
      },
      "execution_count": null,
      "outputs": [
        {
          "output_type": "execute_result",
          "data": {
            "text/plain": [
              "\"There's a pen on my desk.\""
            ],
            "application/vnd.google.colaboratory.intrinsic+json": {
              "type": "string"
            }
          },
          "metadata": {},
          "execution_count": 28
        }
      ]
    },
    {
      "cell_type": "code",
      "source": [
        "# Quotes and apostrophes together?\n",
        "\"\"Hello,\"she said. There's a pen on my desk.\""
      ],
      "metadata": {
        "id": "x05jRVzB7PZX",
        "outputId": "ac6576f2-c220-4379-e8a6-57db09111c8f",
        "colab": {
          "base_uri": "https://localhost:8080/",
          "height": 132
        }
      },
      "execution_count": null,
      "outputs": [
        {
          "output_type": "error",
          "ename": "SyntaxError",
          "evalue": "ignored",
          "traceback": [
            "\u001b[0;36m  File \u001b[0;32m\"<ipython-input-29-4e8589272587>\"\u001b[0;36m, line \u001b[0;32m2\u001b[0m\n\u001b[0;31m    \"\"Hello,\"she said. There's a pen on my desk.\"\u001b[0m\n\u001b[0m          ^\u001b[0m\n\u001b[0;31mSyntaxError\u001b[0m\u001b[0;31m:\u001b[0m invalid syntax\n"
          ]
        }
      ]
    },
    {
      "cell_type": "markdown",
      "metadata": {
        "id": "XeeAo1AkznrP"
      },
      "source": [
        "How can we make this work?"
      ]
    },
    {
      "cell_type": "code",
      "metadata": {
        "id": "7Z4XzLw1zpJh",
        "outputId": "85296f0e-f945-4f75-95f9-754d99bf157f",
        "colab": {
          "base_uri": "https://localhost:8080/"
        }
      },
      "source": [
        "# Handling both quotes and apostrophes\n",
        "print(\"\\\"Hello,\\\" she said. There's a pen on my desk.\")"
      ],
      "execution_count": null,
      "outputs": [
        {
          "output_type": "stream",
          "name": "stdout",
          "text": [
            "\"Hello,\" she said. There's a pen on my desk.\n"
          ]
        }
      ]
    },
    {
      "cell_type": "markdown",
      "metadata": {
        "id": "P_SG9SiKzSBj"
      },
      "source": [
        "What happens if we try to add strings together?"
      ]
    },
    {
      "cell_type": "code",
      "metadata": {
        "id": "WzVcM1RzzSuX",
        "outputId": "dcdde1b0-fd2c-435d-c537-712fa598d5a0",
        "colab": {
          "base_uri": "https://localhost:8080/",
          "height": 36
        }
      },
      "source": [
        "\"hello\"+\"goodbye\""
      ],
      "execution_count": null,
      "outputs": [
        {
          "output_type": "execute_result",
          "data": {
            "text/plain": [
              "'hellogoodbye'"
            ],
            "application/vnd.google.colaboratory.intrinsic+json": {
              "type": "string"
            }
          },
          "metadata": {},
          "execution_count": 32
        }
      ]
    },
    {
      "cell_type": "markdown",
      "metadata": {
        "id": "Ns0ewWPwSRJv"
      },
      "source": [
        "What happens if we try to multiply a string by a number?"
      ]
    },
    {
      "cell_type": "code",
      "metadata": {
        "id": "DDvD6n88SWIw",
        "outputId": "f0a3a991-a28b-4ad7-a7af-4fee4e435dce",
        "colab": {
          "base_uri": "https://localhost:8080/",
          "height": 36
        }
      },
      "source": [
        "\"hello\" * 4"
      ],
      "execution_count": null,
      "outputs": [
        {
          "output_type": "execute_result",
          "data": {
            "text/plain": [
              "'hellohellohellohello'"
            ],
            "application/vnd.google.colaboratory.intrinsic+json": {
              "type": "string"
            }
          },
          "metadata": {},
          "execution_count": 33
        }
      ]
    },
    {
      "cell_type": "markdown",
      "metadata": {
        "id": "B7pFKvdMSkO0"
      },
      "source": [
        "What happens if we try to multiply a string by a string?"
      ]
    },
    {
      "cell_type": "code",
      "metadata": {
        "id": "DNakhfwTSj11",
        "outputId": "6bf48bf7-25fb-4f29-dec1-e0e146274fce",
        "colab": {
          "base_uri": "https://localhost:8080/",
          "height": 168
        }
      },
      "source": [
        "\"hello\" * \"goodbye\""
      ],
      "execution_count": null,
      "outputs": [
        {
          "output_type": "error",
          "ename": "TypeError",
          "evalue": "ignored",
          "traceback": [
            "\u001b[0;31m---------------------------------------------------------------------------\u001b[0m",
            "\u001b[0;31mTypeError\u001b[0m                                 Traceback (most recent call last)",
            "\u001b[0;32m<ipython-input-34-17acdbf6e882>\u001b[0m in \u001b[0;36m<module>\u001b[0;34m()\u001b[0m\n\u001b[0;32m----> 1\u001b[0;31m \u001b[0;34m\"hello\"\u001b[0m \u001b[0;34m*\u001b[0m \u001b[0;34m\"goodbye\"\u001b[0m\u001b[0;34m\u001b[0m\u001b[0;34m\u001b[0m\u001b[0m\n\u001b[0m",
            "\u001b[0;31mTypeError\u001b[0m: can't multiply sequence by non-int of type 'str'"
          ]
        }
      ]
    },
    {
      "cell_type": "markdown",
      "metadata": {
        "id": "l9sSuvhGSwIT"
      },
      "source": [
        "Can we extract individual characters?"
      ]
    },
    {
      "cell_type": "code",
      "metadata": {
        "id": "m_7sBju4TCSO",
        "outputId": "10247c64-f87b-42cd-a286-559ade0fc1cc",
        "colab": {
          "base_uri": "https://localhost:8080/",
          "height": 36
        }
      },
      "source": [
        "x = 5\n",
        "name = \"Sim\"\n",
        "name = \"Sim\" + \" \" + \"Mautner\"\n",
        "name"
      ],
      "execution_count": null,
      "outputs": [
        {
          "output_type": "execute_result",
          "data": {
            "text/plain": [
              "'Sim Mautner'"
            ],
            "application/vnd.google.colaboratory.intrinsic+json": {
              "type": "string"
            }
          },
          "metadata": {},
          "execution_count": 37
        }
      ]
    },
    {
      "cell_type": "code",
      "source": [
        "name[1]"
      ],
      "metadata": {
        "id": "NAehwca697Kg",
        "outputId": "76bc017e-ba86-479c-d57d-31bda2262c6d",
        "colab": {
          "base_uri": "https://localhost:8080/",
          "height": 36
        }
      },
      "execution_count": null,
      "outputs": [
        {
          "output_type": "execute_result",
          "data": {
            "text/plain": [
              "'i'"
            ],
            "application/vnd.google.colaboratory.intrinsic+json": {
              "type": "string"
            }
          },
          "metadata": {},
          "execution_count": 38
        }
      ]
    },
    {
      "cell_type": "code",
      "source": [
        "name[0]"
      ],
      "metadata": {
        "id": "xyRr4pNI-RZV",
        "outputId": "31436504-c4f5-4410-83fb-9fc8c2513d63",
        "colab": {
          "base_uri": "https://localhost:8080/",
          "height": 36
        }
      },
      "execution_count": null,
      "outputs": [
        {
          "output_type": "execute_result",
          "data": {
            "text/plain": [
              "'S'"
            ],
            "application/vnd.google.colaboratory.intrinsic+json": {
              "type": "string"
            }
          },
          "metadata": {},
          "execution_count": 39
        }
      ]
    },
    {
      "cell_type": "code",
      "source": [
        "name[7]"
      ],
      "metadata": {
        "id": "KbYeOX0g-TGl",
        "outputId": "14003c79-7424-4058-f8db-16e62f25e4f2",
        "colab": {
          "base_uri": "https://localhost:8080/",
          "height": 36
        }
      },
      "execution_count": null,
      "outputs": [
        {
          "output_type": "execute_result",
          "data": {
            "text/plain": [
              "'t'"
            ],
            "application/vnd.google.colaboratory.intrinsic+json": {
              "type": "string"
            }
          },
          "metadata": {},
          "execution_count": 40
        }
      ]
    },
    {
      "cell_type": "markdown",
      "metadata": {
        "id": "ftNEXaeHUlw5"
      },
      "source": [
        "* Strings are a sequence of characters (or **elements**).\n",
        "* Each character in the sequence has a number, this number is often referred to as the **index**.\n",
        "* When we talk about sequences, each **element** has an **index**.\n",
        "* You can also think of a string as a street with lots of houses.\n",
        "  * The string's name is the name of the street.\n",
        "  * The **index** is the house number.\n",
        "  * The **element** (or character) is who lives there.\n",
        "\n",
        " <img width=\"40%\" src=\"https://i.imgur.com/FuUEFhA.png\" />"
      ]
    },
    {
      "cell_type": "markdown",
      "metadata": {
        "id": "CRQgX47vM5nU"
      },
      "source": [
        "## What is wrong with programmers?\n",
        "\n",
        "<img width=\"40%\" src=\"https://i.imgur.com/NSxLS8D.png\" />\n",
        "\n",
        "Important info:\n",
        "\n",
        "* Programmers start counting from 0\n",
        "* This is a common source of errors for new programmers"
      ]
    },
    {
      "cell_type": "markdown",
      "metadata": {
        "id": "6uBUEwM2UaHc"
      },
      "source": [
        "## Back to Strings"
      ]
    },
    {
      "cell_type": "markdown",
      "metadata": {
        "id": "uasiOS9wUdNL"
      },
      "source": [
        "Can we extract parts of strings?"
      ]
    },
    {
      "cell_type": "code",
      "metadata": {
        "id": "2mMKFhcbUgKb"
      },
      "source": [
        "text = \"Some things to write about.\""
      ],
      "execution_count": null,
      "outputs": []
    },
    {
      "cell_type": "code",
      "source": [
        "text[5:7]"
      ],
      "metadata": {
        "id": "Jdu4R9Dr-7T0",
        "outputId": "7b05f477-6f6b-4cab-9f66-32ebb9e89dd4",
        "colab": {
          "base_uri": "https://localhost:8080/",
          "height": 36
        }
      },
      "execution_count": null,
      "outputs": [
        {
          "output_type": "execute_result",
          "data": {
            "text/plain": [
              "'th'"
            ],
            "application/vnd.google.colaboratory.intrinsic+json": {
              "type": "string"
            }
          },
          "metadata": {},
          "execution_count": 42
        }
      ]
    },
    {
      "cell_type": "code",
      "source": [
        "text[5:]"
      ],
      "metadata": {
        "id": "cHE5eCaM-_Gm",
        "outputId": "1ec3f7c4-6df2-438f-8492-b8690103487e",
        "colab": {
          "base_uri": "https://localhost:8080/",
          "height": 36
        }
      },
      "execution_count": null,
      "outputs": [
        {
          "output_type": "execute_result",
          "data": {
            "text/plain": [
              "'things to write about.'"
            ],
            "application/vnd.google.colaboratory.intrinsic+json": {
              "type": "string"
            }
          },
          "metadata": {},
          "execution_count": 43
        }
      ]
    },
    {
      "cell_type": "code",
      "source": [
        "text[:11]"
      ],
      "metadata": {
        "id": "ZswpenJj_Ccd",
        "outputId": "79e43ac2-b61b-43c7-877f-e7de5e32ccf2",
        "colab": {
          "base_uri": "https://localhost:8080/",
          "height": 36
        }
      },
      "execution_count": null,
      "outputs": [
        {
          "output_type": "execute_result",
          "data": {
            "text/plain": [
              "'Some things'"
            ],
            "application/vnd.google.colaboratory.intrinsic+json": {
              "type": "string"
            }
          },
          "metadata": {},
          "execution_count": 46
        }
      ]
    },
    {
      "cell_type": "markdown",
      "metadata": {
        "id": "qaBmGTxrUf1r"
      },
      "source": [
        "What happens if we put a negative number in as the index?"
      ]
    },
    {
      "cell_type": "code",
      "metadata": {
        "id": "War6Wm7lV9Wl",
        "outputId": "aaed9452-0acf-484b-be5e-3269aa41695b",
        "colab": {
          "base_uri": "https://localhost:8080/",
          "height": 36
        }
      },
      "source": [
        "text[-1]"
      ],
      "execution_count": null,
      "outputs": [
        {
          "output_type": "execute_result",
          "data": {
            "text/plain": [
              "'.'"
            ],
            "application/vnd.google.colaboratory.intrinsic+json": {
              "type": "string"
            }
          },
          "metadata": {},
          "execution_count": 47
        }
      ]
    },
    {
      "cell_type": "code",
      "source": [
        "text[-2]"
      ],
      "metadata": {
        "id": "LuCV_rEn_N86",
        "outputId": "b3f8be4e-df36-48bd-80ac-3c19abab177b",
        "colab": {
          "base_uri": "https://localhost:8080/",
          "height": 36
        }
      },
      "execution_count": null,
      "outputs": [
        {
          "output_type": "execute_result",
          "data": {
            "text/plain": [
              "'t'"
            ],
            "application/vnd.google.colaboratory.intrinsic+json": {
              "type": "string"
            }
          },
          "metadata": {},
          "execution_count": 48
        }
      ]
    },
    {
      "cell_type": "markdown",
      "metadata": {
        "id": "JzPhzMxp6rAr"
      },
      "source": [
        "Can we get the length of a string?"
      ]
    },
    {
      "cell_type": "code",
      "metadata": {
        "id": "cc5vOO5G6wHz",
        "outputId": "9fe48f27-ece3-427d-c471-763a4e984134",
        "colab": {
          "base_uri": "https://localhost:8080/"
        }
      },
      "source": [
        "len(text)"
      ],
      "execution_count": null,
      "outputs": [
        {
          "output_type": "execute_result",
          "data": {
            "text/plain": [
              "27"
            ]
          },
          "metadata": {},
          "execution_count": 49
        }
      ]
    },
    {
      "cell_type": "code",
      "source": [
        "text[0:27]"
      ],
      "metadata": {
        "id": "6w5a81zt_dYN",
        "outputId": "7ba0c778-5930-42d4-d44e-072a3b1b3a2b",
        "colab": {
          "base_uri": "https://localhost:8080/",
          "height": 36
        }
      },
      "execution_count": null,
      "outputs": [
        {
          "output_type": "execute_result",
          "data": {
            "text/plain": [
              "'Some things to write about.'"
            ],
            "application/vnd.google.colaboratory.intrinsic+json": {
              "type": "string"
            }
          },
          "metadata": {},
          "execution_count": 50
        }
      ]
    },
    {
      "cell_type": "code",
      "source": [
        "text[0:28]"
      ],
      "metadata": {
        "id": "sdj9JHcn_hnD",
        "outputId": "c04b945e-923d-46b2-86ca-2dcf3edc57f9",
        "colab": {
          "base_uri": "https://localhost:8080/",
          "height": 36
        }
      },
      "execution_count": null,
      "outputs": [
        {
          "output_type": "execute_result",
          "data": {
            "text/plain": [
              "'Some things to write about.'"
            ],
            "application/vnd.google.colaboratory.intrinsic+json": {
              "type": "string"
            }
          },
          "metadata": {},
          "execution_count": 51
        }
      ]
    },
    {
      "cell_type": "code",
      "source": [
        "text[0:-2]"
      ],
      "metadata": {
        "id": "ovlfBRod_lH0",
        "outputId": "a574fe84-07c8-43f0-e86f-300c6e172981",
        "colab": {
          "base_uri": "https://localhost:8080/",
          "height": 36
        }
      },
      "execution_count": null,
      "outputs": [
        {
          "output_type": "execute_result",
          "data": {
            "text/plain": [
              "'Some things to write abou'"
            ],
            "application/vnd.google.colaboratory.intrinsic+json": {
              "type": "string"
            }
          },
          "metadata": {},
          "execution_count": 52
        }
      ]
    },
    {
      "cell_type": "code",
      "source": [
        "text[-5:-1]"
      ],
      "metadata": {
        "id": "rLwIPYL3_oMM",
        "outputId": "463750e7-6269-4553-b9cf-c45cdf4098ca",
        "colab": {
          "base_uri": "https://localhost:8080/",
          "height": 36
        }
      },
      "execution_count": null,
      "outputs": [
        {
          "output_type": "execute_result",
          "data": {
            "text/plain": [
              "'bout'"
            ],
            "application/vnd.google.colaboratory.intrinsic+json": {
              "type": "string"
            }
          },
          "metadata": {},
          "execution_count": 53
        }
      ]
    },
    {
      "cell_type": "code",
      "source": [
        "text[10:5]"
      ],
      "metadata": {
        "id": "yc79MTHs_rsA",
        "outputId": "dde4127d-9298-4819-a3da-e2d1da91f48d",
        "colab": {
          "base_uri": "https://localhost:8080/",
          "height": 36
        }
      },
      "execution_count": null,
      "outputs": [
        {
          "output_type": "execute_result",
          "data": {
            "text/plain": [
              "''"
            ],
            "application/vnd.google.colaboratory.intrinsic+json": {
              "type": "string"
            }
          },
          "metadata": {},
          "execution_count": 54
        }
      ]
    },
    {
      "cell_type": "markdown",
      "metadata": {
        "id": "sxobJv-Y8dlW"
      },
      "source": [
        "Can we count the number of e's in a string?"
      ]
    },
    {
      "cell_type": "code",
      "metadata": {
        "id": "8kE89xQQ9fgE",
        "outputId": "8e9ca06b-1023-450d-8ef5-0b0ff65092f0",
        "colab": {
          "base_uri": "https://localhost:8080/"
        }
      },
      "source": [
        "text.count('e')"
      ],
      "execution_count": null,
      "outputs": [
        {
          "output_type": "execute_result",
          "data": {
            "text/plain": [
              "2"
            ]
          },
          "metadata": {},
          "execution_count": 55
        }
      ]
    },
    {
      "cell_type": "markdown",
      "metadata": {
        "id": "26pq6sCa9f1D"
      },
      "source": [
        "Can we replace the the e's with a's?"
      ]
    },
    {
      "cell_type": "code",
      "metadata": {
        "id": "apa0ykn_AKjk",
        "outputId": "1d0c5e71-1671-4bee-d03c-16e1fa9e81c6",
        "colab": {
          "base_uri": "https://localhost:8080/",
          "height": 36
        }
      },
      "source": [
        "text.replace('e','a')"
      ],
      "execution_count": null,
      "outputs": [
        {
          "output_type": "execute_result",
          "data": {
            "text/plain": [
              "'Soma things to writa about.'"
            ],
            "application/vnd.google.colaboratory.intrinsic+json": {
              "type": "string"
            }
          },
          "metadata": {},
          "execution_count": 56
        }
      ]
    },
    {
      "cell_type": "code",
      "source": [
        "text"
      ],
      "metadata": {
        "id": "M2dhFUxZ_548",
        "outputId": "c255e735-9881-48cc-cdce-39541308017f",
        "colab": {
          "base_uri": "https://localhost:8080/",
          "height": 36
        }
      },
      "execution_count": null,
      "outputs": [
        {
          "output_type": "execute_result",
          "data": {
            "text/plain": [
              "'Some things to write about.'"
            ],
            "application/vnd.google.colaboratory.intrinsic+json": {
              "type": "string"
            }
          },
          "metadata": {},
          "execution_count": 57
        }
      ]
    },
    {
      "cell_type": "markdown",
      "metadata": {
        "id": "IhVg7mInnDuk"
      },
      "source": [
        "### Obfuscation\n",
        "Solve the problem described in this text.\n",
        "\n",
        "> Oh no, somaona hes dona somathing tarribla to my writing. Thay'va sweppad eround tha lattar 'e' end tha lattar 'a'\n",
        "\n"
      ]
    },
    {
      "cell_type": "code",
      "metadata": {
        "id": "fI2wrdtWnMZ5",
        "outputId": "4f7d9da0-4c38-4d0e-9a3b-60ecd6b3d1bc",
        "colab": {
          "base_uri": "https://localhost:8080/",
          "height": 36
        }
      },
      "source": [
        "obfus_text = \"Oh no, somaona hes dona somathing tarribla to my writing. Thay'va sweppad eround tha lattar 'e' end tha lattar 'a'\"\n",
        "fixed_text = obfus_text.replace('e','a')\n",
        "fixed_text = obfus_text.replace('a','e')\n",
        "fixed_text"
      ],
      "execution_count": null,
      "outputs": [
        {
          "output_type": "execute_result",
          "data": {
            "text/plain": [
              "\"Oh no, someone hes done something terrible to my writing. They've swepped eround the letter 'e' end the letter 'e'\""
            ],
            "application/vnd.google.colaboratory.intrinsic+json": {
              "type": "string"
            }
          },
          "metadata": {},
          "execution_count": 58
        }
      ]
    },
    {
      "cell_type": "code",
      "source": [
        "obfus_text = \"Oh no, somaona hes dona somathing tarribla to my writing. Thay'va sweppad eround tha lattar 'e' end tha lattar 'a'\"\n",
        "print(obfus_text)\n",
        "fixed_text = obfus_text.replace('e','$')\n",
        "print(fixed_text)\n",
        "fixed_text = fixed_text.replace('a','e')\n",
        "print(fixed_text)\n",
        "fixed_text = fixed_text.replace('$','a')\n",
        "print(fixed_text)"
      ],
      "metadata": {
        "id": "Xrxj2LtMBHWZ",
        "outputId": "d15ade82-e1dd-4870-d4ef-c4eb192c3dcc",
        "colab": {
          "base_uri": "https://localhost:8080/"
        }
      },
      "execution_count": null,
      "outputs": [
        {
          "output_type": "stream",
          "name": "stdout",
          "text": [
            "Oh no, somaona hes dona somathing tarribla to my writing. Thay'va sweppad eround tha lattar 'e' end tha lattar 'a'\n",
            "Oh no, somaona h$s dona somathing tarribla to my writing. Thay'va sw$ppad $round tha lattar '$' $nd tha lattar 'a'\n",
            "Oh no, someone h$s done something terrible to my writing. They've sw$pped $round the letter '$' $nd the letter 'e'\n",
            "Oh no, someone has done something terrible to my writing. They've swapped around the letter 'a' and the letter 'e'\n"
          ]
        }
      ]
    },
    {
      "cell_type": "code",
      "source": [
        "obfus_text = \"Oh no, somaona hes dona somathing tarribla to my writing. Thay'va sweppad eround tha lattar 'e' end tha lattar 'a'\"\n",
        "print(obfus_text)\n",
        "fixed_text = obfus_text.replace('e','$').replace('a','e').replace('$','a')\n",
        "print(fixed_text)"
      ],
      "metadata": {
        "id": "8wMfpa59B09-",
        "outputId": "8fd2c05b-84e0-47fc-effd-b696b8ec6a63",
        "colab": {
          "base_uri": "https://localhost:8080/"
        }
      },
      "execution_count": null,
      "outputs": [
        {
          "output_type": "stream",
          "name": "stdout",
          "text": [
            "Oh no, somaona hes dona somathing tarribla to my writing. Thay'va sweppad eround tha lattar 'e' end tha lattar 'a'\n",
            "Oh no, someone has done something terrible to my writing. They've swapped around the letter 'a' and the letter 'e'\n"
          ]
        }
      ]
    },
    {
      "cell_type": "code",
      "source": [
        "# Why is it len(text) but text.count('e')?\n",
        "# text.len()\n",
        "# count(text, 'e')"
      ],
      "metadata": {
        "id": "fuGHwN4rCOfD"
      },
      "execution_count": null,
      "outputs": []
    },
    {
      "cell_type": "markdown",
      "metadata": {
        "id": "pVufceYcpugu"
      },
      "source": [
        "\n",
        "# 3 - Functions and Methods"
      ]
    },
    {
      "cell_type": "markdown",
      "metadata": {
        "id": "clMhQF4k6wx-"
      },
      "source": [
        "## Aside: Functions vs Methods\n",
        "\n",
        "Functions:\n",
        "* **len** is one of the **built-in functions** in Python\n",
        "* other built-in functions can be found [here](https://www.w3schools.com/python/python_ref_functions.asp)\n",
        "* to call (use) a function: `function_name(variable)`\n",
        "* functions either display or return a value\n",
        "\n",
        "Methods:\n",
        "* **count** is one of the methods which can be executed on a string in Python\n",
        "* other string methods can be found [here](https://www.w3schools.com/python/python_ref_string.asp)\n",
        "* to call (use) a method: `variable.method_name()` or `variable.method_name(other, parameters, here)`"
      ]
    },
    {
      "cell_type": "code",
      "source": [
        "text = \"hello\"\n",
        "text = text.capitalize()\n",
        "print(text)"
      ],
      "metadata": {
        "id": "DXfr-Z9uC29h",
        "outputId": "634bf2b3-93cb-46c8-ef8f-9f1d5d5708c8",
        "colab": {
          "base_uri": "https://localhost:8080/"
        }
      },
      "execution_count": null,
      "outputs": [
        {
          "output_type": "stream",
          "name": "stdout",
          "text": [
            "Hello\n"
          ]
        }
      ]
    },
    {
      "cell_type": "code",
      "source": [
        "text = \"hello\"\n",
        "ends_with_lo = text.endswith('lo')\n",
        "print(ends_with_lo)"
      ],
      "metadata": {
        "id": "BOIvmpJTC8oz",
        "outputId": "03b5adaf-ee33-410f-d05e-082a92ad35bc",
        "colab": {
          "base_uri": "https://localhost:8080/"
        }
      },
      "execution_count": null,
      "outputs": [
        {
          "output_type": "stream",
          "name": "stdout",
          "text": [
            "True\n"
          ]
        }
      ]
    },
    {
      "cell_type": "markdown",
      "metadata": {
        "id": "g-n6ohsr-2Z_"
      },
      "source": [
        "## Storing the Results of a Function or Method Call"
      ]
    },
    {
      "cell_type": "markdown",
      "metadata": {
        "id": "PjPzefX1_AX4"
      },
      "source": [
        "Can we get the length of a string and store it in a variable?"
      ]
    },
    {
      "cell_type": "code",
      "metadata": {
        "id": "SKlkLvgb_EH_",
        "outputId": "1b067fe9-abfa-4b95-ef6c-52e2faf1a927",
        "colab": {
          "base_uri": "https://localhost:8080/"
        }
      },
      "source": [
        "my_text = \"Hello. This is some text.\"\n",
        "len_my_text = len(my_text)\n",
        "len_my_text"
      ],
      "execution_count": null,
      "outputs": [
        {
          "output_type": "execute_result",
          "data": {
            "text/plain": [
              "25"
            ]
          },
          "metadata": {},
          "execution_count": 68
        }
      ]
    },
    {
      "cell_type": "markdown",
      "metadata": {
        "id": "dw3cCmbJ_Ear"
      },
      "source": [
        "Can we count the number of e's in a string and store it in a variable?"
      ]
    },
    {
      "cell_type": "code",
      "metadata": {
        "id": "LBtV3WHX_H-o",
        "outputId": "9d2c8cae-6dbc-44fc-b479-a782be8acade",
        "colab": {
          "base_uri": "https://localhost:8080/"
        }
      },
      "source": [
        "num_es_my_text = my_text.count('e')\n",
        "print(num_es_my_text)"
      ],
      "execution_count": null,
      "outputs": [
        {
          "output_type": "stream",
          "name": "stdout",
          "text": [
            "3\n"
          ]
        }
      ]
    },
    {
      "cell_type": "markdown",
      "metadata": {
        "id": "2vG33InB4wPG"
      },
      "source": [
        "# 4 - Printing Literals and Variables\n",
        "\n",
        "* Until now we could only display one thing at the end of each code block.\n",
        "* To display more frequently, we can use the `print()` function.\n",
        "* `print()` is a built-in function, so the \"stuff to print\" goes inside the brackets.\n"
      ]
    },
    {
      "cell_type": "code",
      "metadata": {
        "id": "NyiNJbCQAVE8",
        "outputId": "57738653-0192-4b59-b7fe-c341167cc9a8",
        "colab": {
          "base_uri": "https://localhost:8080/",
          "height": 168
        }
      },
      "source": [
        "\"words go here\".print()"
      ],
      "execution_count": null,
      "outputs": [
        {
          "output_type": "error",
          "ename": "AttributeError",
          "evalue": "ignored",
          "traceback": [
            "\u001b[0;31m---------------------------------------------------------------------------\u001b[0m",
            "\u001b[0;31mAttributeError\u001b[0m                            Traceback (most recent call last)",
            "\u001b[0;32m<ipython-input-70-298fd46798e9>\u001b[0m in \u001b[0;36m<module>\u001b[0;34m()\u001b[0m\n\u001b[0;32m----> 1\u001b[0;31m \u001b[0;34m\"words go here\"\u001b[0m\u001b[0;34m.\u001b[0m\u001b[0mprint\u001b[0m\u001b[0;34m(\u001b[0m\u001b[0;34m)\u001b[0m\u001b[0;34m\u001b[0m\u001b[0;34m\u001b[0m\u001b[0m\n\u001b[0m",
            "\u001b[0;31mAttributeError\u001b[0m: 'str' object has no attribute 'print'"
          ]
        }
      ]
    },
    {
      "cell_type": "code",
      "source": [
        "print(\"words go here\")"
      ],
      "metadata": {
        "id": "00kWI76LEGRQ",
        "outputId": "f5f62cc2-cc13-475d-b8d6-35d3f43dfade",
        "colab": {
          "base_uri": "https://localhost:8080/"
        }
      },
      "execution_count": null,
      "outputs": [
        {
          "output_type": "stream",
          "name": "stdout",
          "text": [
            "words go here\n"
          ]
        }
      ]
    },
    {
      "cell_type": "markdown",
      "metadata": {
        "id": "ULFZC2P1AfCY"
      },
      "source": [
        "# 5 - Special Characters\n",
        "\n"
      ]
    },
    {
      "cell_type": "markdown",
      "metadata": {
        "id": "D0qihz2Ru_ba"
      },
      "source": [
        "Strings can contain special characters that either can't be visualised or can't be typed on most keyboards.\n",
        "\n",
        "These include:\n",
        "* The \"newline\" character.\n",
        "  * Indicates that any characters after it should go on a new line.\n",
        "  * Written as \"\\n\"\n",
        "* Characters from alphabets other than the \"latin\" alphabet.\n",
        "* Emoji!\n",
        "  * Written as \"\\N{name of the emoji}\"\n",
        "  * You can look up names [here](https://emojipedia.org)"
      ]
    },
    {
      "cell_type": "code",
      "source": [
        "# Newline demo\n",
        "print(\"some text\")\n",
        "print(\"some \\n text\")"
      ],
      "metadata": {
        "id": "dJHiuaVaEY60",
        "outputId": "16937515-4e45-4a35-83d9-c7bf9ae92889",
        "colab": {
          "base_uri": "https://localhost:8080/"
        }
      },
      "execution_count": null,
      "outputs": [
        {
          "output_type": "stream",
          "name": "stdout",
          "text": [
            "some text\n",
            "some \n",
            " text\n"
          ]
        }
      ]
    },
    {
      "cell_type": "code",
      "source": [
        "# Emoji demo\n",
        "print(\"words and text with a \\N{Sleeping Face} in the middle\")"
      ],
      "metadata": {
        "id": "awWP6c3YE0pe",
        "outputId": "9951b87e-d297-4632-93c1-1033007a7eeb",
        "colab": {
          "base_uri": "https://localhost:8080/"
        }
      },
      "execution_count": null,
      "outputs": [
        {
          "output_type": "stream",
          "name": "stdout",
          "text": [
            "words and text with a 😴 in the middle\n"
          ]
        }
      ]
    },
    {
      "cell_type": "markdown",
      "metadata": {
        "id": "1R2lqXZXBDaW"
      },
      "source": [
        "Can we create a string with this box in it?\n",
        "\n",
        "```\n",
        "+-----+\n",
        "|     |\n",
        "|     |\n",
        "|     |\n",
        "+-----+\n",
        "```"
      ]
    },
    {
      "cell_type": "code",
      "metadata": {
        "id": "xzOzW8jQBFPm",
        "outputId": "91f2e679-c7e3-4051-a8c9-5b4664a0ba50",
        "colab": {
          "base_uri": "https://localhost:8080/"
        }
      },
      "source": [
        "box = \"+-----+\\n|     |\\n|     |\\n|     |\\n+-----+\"\n",
        "print(box)"
      ],
      "execution_count": null,
      "outputs": [
        {
          "output_type": "stream",
          "name": "stdout",
          "text": [
            "+-----+\n",
            "|     |\n",
            "|     |\n",
            "|     |\n",
            "+-----+\n"
          ]
        }
      ]
    },
    {
      "cell_type": "code",
      "source": [
        "box2 = \"+-----+\\n\"+\"|     |\\n\"*3+\"+-----+\\n\"\n",
        "print(box2)"
      ],
      "metadata": {
        "id": "ta5_3UUEGFN9",
        "outputId": "90af2203-e7a4-4a88-cf4d-ff46328945ff",
        "colab": {
          "base_uri": "https://localhost:8080/"
        }
      },
      "execution_count": null,
      "outputs": [
        {
          "output_type": "stream",
          "name": "stdout",
          "text": [
            "+-----+\n",
            "|     |\n",
            "|     |\n",
            "|     |\n",
            "+-----+\n",
            "\n"
          ]
        }
      ]
    },
    {
      "cell_type": "code",
      "source": [
        "top_btm_line = \"+-----+\\n\"\n",
        "box3 = top_btm_line+\"|     |\\n\"*3+top_btm_line\n",
        "print(box3)"
      ],
      "metadata": {
        "id": "sbuYI74wGgnn",
        "outputId": "57fa249e-ed03-407c-900b-cfd525c1f1ad",
        "colab": {
          "base_uri": "https://localhost:8080/"
        }
      },
      "execution_count": null,
      "outputs": [
        {
          "output_type": "stream",
          "name": "stdout",
          "text": [
            "+-----+\n",
            "|     |\n",
            "|     |\n",
            "|     |\n",
            "+-----+\n",
            "\n"
          ]
        }
      ]
    },
    {
      "cell_type": "markdown",
      "metadata": {
        "id": "vuYuvdUB_RdE"
      },
      "source": [
        "What if we actually want to print \"\\n\"?"
      ]
    },
    {
      "cell_type": "code",
      "metadata": {
        "id": "lb51dsvu_XnK",
        "outputId": "cd448e30-8413-476f-bb7d-ef55135f64cd",
        "colab": {
          "base_uri": "https://localhost:8080/"
        }
      },
      "source": [
        "print(\"This text has a \\n character.\")"
      ],
      "execution_count": null,
      "outputs": [
        {
          "output_type": "stream",
          "name": "stdout",
          "text": [
            "This text has a \n",
            " character.\n"
          ]
        }
      ]
    },
    {
      "cell_type": "code",
      "source": [
        "print(\"This text has a \\\\n character.\")"
      ],
      "metadata": {
        "id": "o48hGJGyGud7",
        "outputId": "2f494508-aa99-4c34-89f2-523bef60a445",
        "colab": {
          "base_uri": "https://localhost:8080/"
        }
      },
      "execution_count": null,
      "outputs": [
        {
          "output_type": "stream",
          "name": "stdout",
          "text": [
            "This text has a \\n character.\n"
          ]
        }
      ]
    },
    {
      "cell_type": "markdown",
      "metadata": {
        "id": "gC5bW8iN_alR"
      },
      "source": [
        "Can we take a string with spaces between the words, and change it so that each word appears on a different line?"
      ]
    },
    {
      "cell_type": "code",
      "metadata": {
        "id": "uOvJsRlMAWlj",
        "outputId": "e598b6e5-d640-4559-937a-9a5c4f9926bf",
        "colab": {
          "base_uri": "https://localhost:8080/"
        }
      },
      "source": [
        "text = \"This text is some text.\"\n",
        "print(text)\n",
        "newlines_text = text.replace(' ', '\\n')\n",
        "print(newlines_text)"
      ],
      "execution_count": null,
      "outputs": [
        {
          "output_type": "stream",
          "name": "stdout",
          "text": [
            "This text is some text.\n",
            "This\n",
            "text\n",
            "is\n",
            "some\n",
            "text.\n"
          ]
        }
      ]
    },
    {
      "cell_type": "markdown",
      "metadata": {
        "id": "1z-ORJW1_kIp"
      },
      "source": [
        "Can we change it back?"
      ]
    },
    {
      "cell_type": "code",
      "metadata": {
        "id": "9zyVMm9kAXHk",
        "outputId": "3497569e-6ccd-49aa-a125-0842c6ebdbcd",
        "colab": {
          "base_uri": "https://localhost:8080/"
        }
      },
      "source": [
        "print(newlines_text)\n",
        "fixed_text = newlines_text.replace('\\n', ' ')\n",
        "print(fixed_text)"
      ],
      "execution_count": null,
      "outputs": [
        {
          "output_type": "stream",
          "name": "stdout",
          "text": [
            "This\n",
            "text\n",
            "is\n",
            "some\n",
            "text.\n",
            "This text is some text.\n"
          ]
        }
      ]
    },
    {
      "cell_type": "markdown",
      "metadata": {
        "id": "lWLq3uupBIUe"
      },
      "source": [
        "Can we describe 2020 with Emoji?"
      ]
    },
    {
      "cell_type": "code",
      "metadata": {
        "id": "_OtIm8NRI1AY",
        "outputId": "ad9e311f-30e7-4a51-cf08-54c6891ab605",
        "colab": {
          "base_uri": "https://localhost:8080/"
        }
      },
      "source": [
        "print(\"\\N{Syringe} \\N{Nauseated Face} \\N{Desktop Computer} \\N{Cat} \\N{Face with Medical Mask}\")"
      ],
      "execution_count": null,
      "outputs": [
        {
          "output_type": "stream",
          "name": "stdout",
          "text": [
            "💉 🤢 🖥 🐈 😷\n"
          ]
        }
      ]
    },
    {
      "cell_type": "markdown",
      "metadata": {
        "id": "RASu1vuRz8Bf"
      },
      "source": [
        "# 6 - Data Types\n",
        "\n",
        "* Each variable has a **data type**.\n",
        "* So far we have looked at **ints** (numbers) and **strings** (text).\n",
        "* The type of the variable determines its behaviour. (Eg the difference between adding two ints together, or adding two strings together.)\n",
        "* A list of data types in Python can be found here: [https://www.w3schools.com/python/python_datatypes.asp](https://www.w3schools.com/python/python_datatypes.asp)"
      ]
    },
    {
      "cell_type": "code",
      "source": [
        "4 +5"
      ],
      "metadata": {
        "id": "BX_m3tuxU4tU",
        "outputId": "7b0fc56a-cddc-4236-fcd1-b79d8814b6fa",
        "colab": {
          "base_uri": "https://localhost:8080/"
        }
      },
      "execution_count": 2,
      "outputs": [
        {
          "output_type": "execute_result",
          "data": {
            "text/plain": [
              "9"
            ]
          },
          "metadata": {},
          "execution_count": 2
        }
      ]
    },
    {
      "cell_type": "code",
      "source": [
        "'4'+'5'"
      ],
      "metadata": {
        "id": "qydOt1DLU6YC",
        "outputId": "bf4baa4e-77aa-40e5-9551-f936d7623b77",
        "colab": {
          "base_uri": "https://localhost:8080/",
          "height": 36
        }
      },
      "execution_count": 3,
      "outputs": [
        {
          "output_type": "execute_result",
          "data": {
            "text/plain": [
              "'45'"
            ],
            "application/vnd.google.colaboratory.intrinsic+json": {
              "type": "string"
            }
          },
          "metadata": {},
          "execution_count": 3
        }
      ]
    },
    {
      "cell_type": "markdown",
      "metadata": {
        "id": "oFgEchGk0inf"
      },
      "source": [
        "Given a variable can we find out it's data type?"
      ]
    },
    {
      "cell_type": "code",
      "metadata": {
        "id": "esPqHWBi0nDF",
        "outputId": "e6953d3d-9b8c-43be-cccd-84b52fc8c3eb",
        "colab": {
          "base_uri": "https://localhost:8080/"
        }
      },
      "source": [
        "var = 17\n",
        "type(var)"
      ],
      "execution_count": 4,
      "outputs": [
        {
          "output_type": "execute_result",
          "data": {
            "text/plain": [
              "int"
            ]
          },
          "metadata": {},
          "execution_count": 4
        }
      ]
    },
    {
      "cell_type": "code",
      "source": [
        "var = \"hello\"\n",
        "type(var)"
      ],
      "metadata": {
        "id": "hJ4AEnFOVCsG",
        "outputId": "e19288de-0a47-421c-dfdf-d778d4e0ae17",
        "colab": {
          "base_uri": "https://localhost:8080/"
        }
      },
      "execution_count": 5,
      "outputs": [
        {
          "output_type": "execute_result",
          "data": {
            "text/plain": [
              "str"
            ]
          },
          "metadata": {},
          "execution_count": 5
        }
      ]
    },
    {
      "cell_type": "markdown",
      "metadata": {
        "id": "vzOFenKi1LZs"
      },
      "source": [
        "What happens when we try to add two values together, when they are of different types?"
      ]
    },
    {
      "cell_type": "code",
      "metadata": {
        "id": "1MObB3dB1K91",
        "outputId": "1e182537-f2bf-4fc4-fe9b-28b4f380a055",
        "colab": {
          "base_uri": "https://localhost:8080/",
          "height": 168
        }
      },
      "source": [
        "\"hello\"+5"
      ],
      "execution_count": 6,
      "outputs": [
        {
          "output_type": "error",
          "ename": "TypeError",
          "evalue": "ignored",
          "traceback": [
            "\u001b[0;31m---------------------------------------------------------------------------\u001b[0m",
            "\u001b[0;31mTypeError\u001b[0m                                 Traceback (most recent call last)",
            "\u001b[0;32m<ipython-input-6-f14b308352aa>\u001b[0m in \u001b[0;36m<module>\u001b[0;34m()\u001b[0m\n\u001b[0;32m----> 1\u001b[0;31m \u001b[0;34m\"hello\"\u001b[0m\u001b[0;34m+\u001b[0m\u001b[0;36m5\u001b[0m\u001b[0;34m\u001b[0m\u001b[0;34m\u001b[0m\u001b[0m\n\u001b[0m",
            "\u001b[0;31mTypeError\u001b[0m: can only concatenate str (not \"int\") to str"
          ]
        }
      ]
    },
    {
      "cell_type": "code",
      "source": [
        "age = 17\n",
        "print(\"My age is: \"+17)"
      ],
      "metadata": {
        "id": "uisIaLY8VLHd",
        "outputId": "d716146d-5515-4216-891c-b5b277893d41",
        "colab": {
          "base_uri": "https://localhost:8080/",
          "height": 186
        }
      },
      "execution_count": 7,
      "outputs": [
        {
          "output_type": "error",
          "ename": "TypeError",
          "evalue": "ignored",
          "traceback": [
            "\u001b[0;31m---------------------------------------------------------------------------\u001b[0m",
            "\u001b[0;31mTypeError\u001b[0m                                 Traceback (most recent call last)",
            "\u001b[0;32m<ipython-input-7-d2069c3f2316>\u001b[0m in \u001b[0;36m<module>\u001b[0;34m()\u001b[0m\n\u001b[1;32m      1\u001b[0m \u001b[0mage\u001b[0m \u001b[0;34m=\u001b[0m \u001b[0;36m17\u001b[0m\u001b[0;34m\u001b[0m\u001b[0;34m\u001b[0m\u001b[0m\n\u001b[0;32m----> 2\u001b[0;31m \u001b[0mprint\u001b[0m\u001b[0;34m(\u001b[0m\u001b[0;34m\"My age is: \"\u001b[0m\u001b[0;34m+\u001b[0m\u001b[0;36m17\u001b[0m\u001b[0;34m)\u001b[0m\u001b[0;34m\u001b[0m\u001b[0;34m\u001b[0m\u001b[0m\n\u001b[0m",
            "\u001b[0;31mTypeError\u001b[0m: can only concatenate str (not \"int\") to str"
          ]
        }
      ]
    },
    {
      "cell_type": "markdown",
      "metadata": {
        "id": "QCJuEgL01csp"
      },
      "source": [
        "Can we change the type of a variable?"
      ]
    },
    {
      "cell_type": "code",
      "metadata": {
        "id": "LmGWAsqT2OXj",
        "outputId": "a8a646a7-1b4e-48cf-e4fb-d0fcaf2d772d",
        "colab": {
          "base_uri": "https://localhost:8080/"
        }
      },
      "source": [
        "age = str(17)\n",
        "print(\"My age is: \"+age)"
      ],
      "execution_count": 8,
      "outputs": [
        {
          "output_type": "stream",
          "name": "stdout",
          "text": [
            "My age is: 17\n"
          ]
        }
      ]
    },
    {
      "cell_type": "code",
      "source": [
        "age = 17\n",
        "print(\"My age is: \"+str(age))"
      ],
      "metadata": {
        "id": "0Fb-pqBMVdWw",
        "outputId": "846ba834-75a8-48e3-f074-a812f982fa14",
        "colab": {
          "base_uri": "https://localhost:8080/"
        }
      },
      "execution_count": 9,
      "outputs": [
        {
          "output_type": "stream",
          "name": "stdout",
          "text": [
            "My age is: 17\n"
          ]
        }
      ]
    },
    {
      "cell_type": "markdown",
      "metadata": {
        "id": "uHWmiGBz385u"
      },
      "source": [
        "Changing the type of a variable is called **casting**. We can cast variables to different types, as long as they can be converted.\n",
        "\n",
        "What happens if we try to cast a variable to a type it is incompatible with?"
      ]
    },
    {
      "cell_type": "code",
      "metadata": {
        "id": "t54J_n2M4OJR",
        "outputId": "16ae7884-6bf3-43f9-8445-8d29663424db",
        "colab": {
          "base_uri": "https://localhost:8080/"
        }
      },
      "source": [
        "age = '17'\n",
        "print(type(age))\n",
        "age = int(age)\n",
        "print(type(age))"
      ],
      "execution_count": 14,
      "outputs": [
        {
          "output_type": "stream",
          "name": "stdout",
          "text": [
            "<class 'str'>\n",
            "<class 'int'>\n"
          ]
        }
      ]
    },
    {
      "cell_type": "code",
      "source": [
        "name = 'Sim'\n",
        "name = int(name)"
      ],
      "metadata": {
        "id": "5nhAUJPqV3xW",
        "outputId": "330ae114-affe-4faf-b78a-c8d11f5c0573",
        "colab": {
          "base_uri": "https://localhost:8080/",
          "height": 186
        }
      },
      "execution_count": 12,
      "outputs": [
        {
          "output_type": "error",
          "ename": "ValueError",
          "evalue": "ignored",
          "traceback": [
            "\u001b[0;31m---------------------------------------------------------------------------\u001b[0m",
            "\u001b[0;31mValueError\u001b[0m                                Traceback (most recent call last)",
            "\u001b[0;32m<ipython-input-12-36a64c78442d>\u001b[0m in \u001b[0;36m<module>\u001b[0;34m()\u001b[0m\n\u001b[1;32m      1\u001b[0m \u001b[0mname\u001b[0m \u001b[0;34m=\u001b[0m \u001b[0;34m'Sim'\u001b[0m\u001b[0;34m\u001b[0m\u001b[0;34m\u001b[0m\u001b[0m\n\u001b[0;32m----> 2\u001b[0;31m \u001b[0mname\u001b[0m \u001b[0;34m=\u001b[0m \u001b[0mint\u001b[0m\u001b[0;34m(\u001b[0m\u001b[0mname\u001b[0m\u001b[0;34m)\u001b[0m\u001b[0;34m\u001b[0m\u001b[0;34m\u001b[0m\u001b[0m\n\u001b[0m",
            "\u001b[0;31mValueError\u001b[0m: invalid literal for int() with base 10: 'Sim'"
          ]
        }
      ]
    },
    {
      "cell_type": "markdown",
      "metadata": {
        "id": "6BnpalugR263"
      },
      "source": [
        "Can you combine strings and variables of different data types in a `print()` statement without casting?"
      ]
    },
    {
      "cell_type": "code",
      "metadata": {
        "id": "PVNiAWCJSA1F"
      },
      "source": [
        "# Not that we cover in this course."
      ],
      "execution_count": null,
      "outputs": []
    },
    {
      "cell_type": "markdown",
      "metadata": {
        "id": "lHezovahucUF"
      },
      "source": [
        "Fill in the following summary of data types:\n",
        "\n",
        "\n",
        "Data Type | Declaration Examples | Printing Examples\n",
        "---|---|---\n",
        " int | age = 17 | 17\n",
        " str | age = '17' | '17'\n",
        " bool | can_drive = True | True\n",
        " float | age = 5.125 | 5.125\n",
        "\n"
      ]
    },
    {
      "cell_type": "markdown",
      "metadata": {
        "id": "aTFCzqGnuAGB"
      },
      "source": [
        "# 7 - F-Strings"
      ]
    },
    {
      "cell_type": "markdown",
      "metadata": {
        "id": "IilEe6SRSsY4"
      },
      "source": [
        "More information about f-strings can be found [here](https://realpython.com/python-f-strings/#f-strings-a-new-and-improved-way-to-format-strings-in-python)."
      ]
    },
    {
      "cell_type": "markdown",
      "metadata": {
        "id": "WJnJ8M7GuGs6"
      },
      "source": [
        "* put an 'f' before the start of the string\n",
        "* include any variables you want to \"find and replace\" in `{}`"
      ]
    },
    {
      "cell_type": "code",
      "source": [
        "# Not using f-strings\n",
        "age = 17\n",
        "print(\"My age is \"+str(age)+\". Wow, I've been alive a long time...\")"
      ],
      "metadata": {
        "id": "9090_Q-eXmv9",
        "outputId": "5cd42db9-4150-4ca7-861f-eb2d63c3c212",
        "colab": {
          "base_uri": "https://localhost:8080/"
        }
      },
      "execution_count": 21,
      "outputs": [
        {
          "output_type": "stream",
          "name": "stdout",
          "text": [
            "My age is17Wow, I've been alive a long time...\n"
          ]
        }
      ]
    },
    {
      "cell_type": "code",
      "source": [
        "# Using f-strings\n",
        "age = 17\n",
        "print(f\"My age is {age}. Wow, I've been alive a long time...\")"
      ],
      "metadata": {
        "id": "Qbt8bjgYWsRN",
        "outputId": "a5df33d2-8c93-402b-8bbb-2bf2717f7491",
        "colab": {
          "base_uri": "https://localhost:8080/"
        }
      },
      "execution_count": 15,
      "outputs": [
        {
          "output_type": "stream",
          "name": "stdout",
          "text": [
            "My age is 17. Wow, I've been alive a long time...\n"
          ]
        }
      ]
    },
    {
      "cell_type": "markdown",
      "source": [
        "If you want to use newlines as well, use triple quotes at the start and end."
      ],
      "metadata": {
        "id": "rRUiwOL-Xand"
      }
    },
    {
      "cell_type": "code",
      "source": [
        "# Not using f-strings\n",
        "print(\"My age is \"+str(age)+\".\\nWow, I've been alive a long time...\"\"\")"
      ],
      "metadata": {
        "id": "-9PAlBqeX4zI",
        "outputId": "b28a38f7-dfc9-4fa8-d4c7-10ef09fca3d3",
        "colab": {
          "base_uri": "https://localhost:8080/"
        }
      },
      "execution_count": 22,
      "outputs": [
        {
          "output_type": "stream",
          "name": "stdout",
          "text": [
            "My age is 17.\n",
            "Wow, I've been alive a long time...\n"
          ]
        }
      ]
    },
    {
      "cell_type": "code",
      "source": [
        "# Using f-strings\n",
        "print(f\"\"\"My age is {age}.\n",
        "Wow, I've been alive a long time...\"\"\")"
      ],
      "metadata": {
        "id": "SJ5mDSagW_Kw",
        "outputId": "020d8ab0-5a1e-4179-ba96-63fd88f1a1d9",
        "colab": {
          "base_uri": "https://localhost:8080/"
        }
      },
      "execution_count": 19,
      "outputs": [
        {
          "output_type": "stream",
          "name": "stdout",
          "text": [
            "My age is 17.\n",
            "Wow, I've been alive a long time...\n"
          ]
        }
      ]
    },
    {
      "cell_type": "code",
      "source": [
        "# TIL that triple quotes are a \"string\" feature, not an \"f-string\" feature\n",
        "# (for having newlines in our strings)\n",
        "print(\"\"\"does this\n",
        "work?\"\"\")"
      ],
      "metadata": {
        "id": "LHYUFVo0Yc-W",
        "outputId": "1e5386a3-4842-4ff8-cb1b-1a456c0631fe",
        "colab": {
          "base_uri": "https://localhost:8080/"
        }
      },
      "execution_count": 23,
      "outputs": [
        {
          "output_type": "stream",
          "name": "stdout",
          "text": [
            "does this\n",
            "work?\n"
          ]
        }
      ]
    },
    {
      "cell_type": "markdown",
      "metadata": {
        "id": "TKpGsue7Mi2z"
      },
      "source": [
        "# 8 - Modulo Operator\n",
        "\n",
        "So far we have covered +, -, *, / with integers.\n",
        "\n",
        "The modulo operator, %, returns the remainder when we divide by a number."
      ]
    },
    {
      "cell_type": "code",
      "metadata": {
        "id": "4xeXpFrqNDqE",
        "outputId": "ca60902f-9c44-404f-f951-3d343a700ad9",
        "colab": {
          "base_uri": "https://localhost:8080/"
        }
      },
      "source": [
        "# A note about casting decimal numbers (float) to ints (whole numbers).\n",
        "# They get truncated.\n",
        "int(5 / 2)"
      ],
      "execution_count": 26,
      "outputs": [
        {
          "output_type": "execute_result",
          "data": {
            "text/plain": [
              "2"
            ]
          },
          "metadata": {},
          "execution_count": 26
        }
      ]
    },
    {
      "cell_type": "code",
      "source": [
        "type(5/2)"
      ],
      "metadata": {
        "id": "BybgCGVMZCL0",
        "outputId": "56a22c05-1291-48fc-cd3c-68d81db24add",
        "colab": {
          "base_uri": "https://localhost:8080/"
        }
      },
      "execution_count": 27,
      "outputs": [
        {
          "output_type": "execute_result",
          "data": {
            "text/plain": [
              "float"
            ]
          },
          "metadata": {},
          "execution_count": 27
        }
      ]
    },
    {
      "cell_type": "code",
      "source": [
        "type(5.0)"
      ],
      "metadata": {
        "id": "ezofpfZbZD7Z",
        "outputId": "dc7e6e39-a866-4359-e01b-cc6bdaac3074",
        "colab": {
          "base_uri": "https://localhost:8080/"
        }
      },
      "execution_count": 28,
      "outputs": [
        {
          "output_type": "execute_result",
          "data": {
            "text/plain": [
              "float"
            ]
          },
          "metadata": {},
          "execution_count": 28
        }
      ]
    },
    {
      "cell_type": "code",
      "source": [
        "# 10/2 = 5 r 0\n",
        "10%2"
      ],
      "metadata": {
        "id": "WY1QFMdFZM6H",
        "outputId": "e6a6f34f-5918-45a5-ee9d-275b7bc28707",
        "colab": {
          "base_uri": "https://localhost:8080/"
        }
      },
      "execution_count": 29,
      "outputs": [
        {
          "output_type": "execute_result",
          "data": {
            "text/plain": [
              "0"
            ]
          },
          "metadata": {},
          "execution_count": 29
        }
      ]
    },
    {
      "cell_type": "code",
      "source": [
        "# 10/3 = 3 r 1 (10 = 3*3+1)\n",
        "10%3"
      ],
      "metadata": {
        "id": "JFpQfksCZaI4",
        "outputId": "4a0958b8-52f2-481f-c324-ddde3444a1c7",
        "colab": {
          "base_uri": "https://localhost:8080/"
        }
      },
      "execution_count": 30,
      "outputs": [
        {
          "output_type": "execute_result",
          "data": {
            "text/plain": [
              "1"
            ]
          },
          "metadata": {},
          "execution_count": 30
        }
      ]
    }
  ]
}