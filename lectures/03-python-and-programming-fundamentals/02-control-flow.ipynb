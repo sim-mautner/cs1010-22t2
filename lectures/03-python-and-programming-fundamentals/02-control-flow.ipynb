{
  "nbformat": 4,
  "nbformat_minor": 0,
  "metadata": {
    "colab": {
      "name": "02-control-flow.ipynb",
      "provenance": [],
      "toc_visible": true,
      "authorship_tag": "ABX9TyNDoBLXijBWSD4Xqwibk/fX",
      "include_colab_link": true
    },
    "kernelspec": {
      "name": "python3",
      "display_name": "Python 3"
    },
    "language_info": {
      "name": "python"
    }
  },
  "cells": [
    {
      "cell_type": "markdown",
      "metadata": {
        "id": "view-in-github",
        "colab_type": "text"
      },
      "source": [
        "<a href=\"https://colab.research.google.com/github/sim-mautner/cs1010-22t2/blob/main/lectures/03-python-and-programming-fundamentals/02-control-flow.ipynb\" target=\"_parent\"><img src=\"https://colab.research.google.com/assets/colab-badge.svg\" alt=\"Open In Colab\"/></a>"
      ]
    },
    {
      "cell_type": "markdown",
      "metadata": {
        "id": "DZASYuPR5kI3"
      },
      "source": [
        "> Topic 3<br>\n",
        "> Python and Programming Fundamentals<br>\n",
        "> COMP1010<br>\n",
        "> Week 1-3\n",
        "\n",
        "> Topic 3.2<br>\n",
        "> Control Flow"
      ]
    },
    {
      "cell_type": "markdown",
      "metadata": {
        "id": "0368ktSurcTf"
      },
      "source": [
        "# 2.1 - Conditionals"
      ]
    },
    {
      "cell_type": "markdown",
      "metadata": {
        "id": "o_7e49apRLPS"
      },
      "source": [
        "## if\n",
        "\n",
        "```python\n",
        "if condition:\n",
        "  code_to_execute_if_condition_is_true\n",
        "```\n",
        "\n",
        "\n",
        "\n",
        "What happens if the condition is `True`?"
      ]
    },
    {
      "cell_type": "code",
      "metadata": {
        "id": "ujDJWU7hrJTI",
        "colab": {
          "base_uri": "https://localhost:8080/"
        },
        "outputId": "21f0cd13-d617-4457-b47d-890978a61e50"
      },
      "source": [
        "if True:\n",
        "    print(\"hello\")"
      ],
      "execution_count": null,
      "outputs": [
        {
          "output_type": "stream",
          "name": "stdout",
          "text": [
            "hello\n"
          ]
        }
      ]
    },
    {
      "cell_type": "markdown",
      "metadata": {
        "id": "Ls5OhTbhr3gN"
      },
      "source": [
        "What happens if the condition is `False`?"
      ]
    },
    {
      "cell_type": "code",
      "metadata": {
        "id": "-3JVINAbr6YR"
      },
      "source": [
        "if False:\n",
        "    print(\"nope\")"
      ],
      "execution_count": null,
      "outputs": []
    },
    {
      "cell_type": "markdown",
      "metadata": {
        "id": "0rLJlS15s1TQ"
      },
      "source": [
        "Can we have multiple lines of code to execute?"
      ]
    },
    {
      "cell_type": "code",
      "metadata": {
        "id": "5GVhji6AtRmj",
        "colab": {
          "base_uri": "https://localhost:8080/"
        },
        "outputId": "ac515514-220e-43a5-ce6f-56333b04b86d"
      },
      "source": [
        "if True:\n",
        "    print(\"hello\")\n",
        "    print(\"this is a second line of code\")"
      ],
      "execution_count": null,
      "outputs": [
        {
          "output_type": "stream",
          "name": "stdout",
          "text": [
            "hello\n",
            "this is a second line of code\n"
          ]
        }
      ]
    },
    {
      "cell_type": "code",
      "source": [
        "if False:\n",
        "    print(\"first line\")\n",
        "    print(\"second line\")\n",
        "print(\"the end\")"
      ],
      "metadata": {
        "colab": {
          "base_uri": "https://localhost:8080/"
        },
        "id": "MT5sAVYca1bt",
        "outputId": "9aed0fc7-08ee-4c08-ec50-b212fdd8515f"
      },
      "execution_count": null,
      "outputs": [
        {
          "output_type": "stream",
          "name": "stdout",
          "text": [
            "the end\n"
          ]
        }
      ]
    },
    {
      "cell_type": "code",
      "source": [
        "if True:\n",
        "    print(\"first line\")\n",
        "    print(\"second line\")\n",
        "print(\"the end\")"
      ],
      "metadata": {
        "colab": {
          "base_uri": "https://localhost:8080/"
        },
        "id": "ipns5r1HbC_s",
        "outputId": "5c0dd369-5ed4-49ca-8509-c738fbe299d5"
      },
      "execution_count": null,
      "outputs": [
        {
          "output_type": "stream",
          "name": "stdout",
          "text": [
            "first line\n",
            "second line\n",
            "the end\n"
          ]
        }
      ]
    },
    {
      "cell_type": "markdown",
      "metadata": {
        "id": "qSDrVBLHr8tU"
      },
      "source": [
        "Does the indentation matter?"
      ]
    },
    {
      "cell_type": "code",
      "metadata": {
        "id": "x6kpZjREtRW-"
      },
      "source": [
        "# Yes. See example above."
      ],
      "execution_count": null,
      "outputs": []
    },
    {
      "cell_type": "markdown",
      "metadata": {
        "id": "693LDbk6uCQY"
      },
      "source": [
        "## Testing Variables and Creating Conditions"
      ]
    },
    {
      "cell_type": "markdown",
      "metadata": {
        "id": "nt-AoOUruhyK"
      },
      "source": [
        "Can we create a variable with a boolean to test?\n",
        "\n",
        "* `not`"
      ]
    },
    {
      "cell_type": "code",
      "metadata": {
        "colab": {
          "base_uri": "https://localhost:8080/"
        },
        "id": "TTS8JF7uuoZp",
        "outputId": "54dce493-0023-4cec-e931-2b3f9566623a"
      },
      "source": [
        "name = \"Sim\"\n",
        "if name == \"Sim\":\n",
        "    print(\"Welcome!\")"
      ],
      "execution_count": null,
      "outputs": [
        {
          "output_type": "stream",
          "name": "stdout",
          "text": [
            "Welcome!\n"
          ]
        }
      ]
    },
    {
      "cell_type": "code",
      "source": [
        "name = \"Ellie\"\n",
        "if name != \"Sim\":\n",
        "    print(\"Are you sure you're meant to be here?\")"
      ],
      "metadata": {
        "colab": {
          "base_uri": "https://localhost:8080/"
        },
        "id": "N68kGwzabd5c",
        "outputId": "d8c987aa-f711-4508-afad-906e522763ca"
      },
      "execution_count": null,
      "outputs": [
        {
          "output_type": "stream",
          "name": "stdout",
          "text": [
            "Are you sure you're meant to be here?\n"
          ]
        }
      ]
    },
    {
      "cell_type": "markdown",
      "metadata": {
        "id": "A-DTcDRpuoqG"
      },
      "source": [
        "Can we create an integer to test?\n",
        "\n",
        "| Symbol | Meaning |\n",
        "|---|---|\n",
        "| == | is equal to |\n",
        "| != | is not equal to |\n",
        "| > | is greater than |\n",
        "| < | is less than |\n",
        "| <= | is less than or equal to |\n",
        "| >= | is greater than or equal to |"
      ]
    },
    {
      "cell_type": "code",
      "metadata": {
        "id": "Kci8FX_juhX9",
        "colab": {
          "base_uri": "https://localhost:8080/"
        },
        "outputId": "78f27621-3708-443d-e599-4212aa24b942"
      },
      "source": [
        "num = 5\n",
        "if num == 5:\n",
        "    print(\"Yes\")"
      ],
      "execution_count": null,
      "outputs": [
        {
          "output_type": "stream",
          "name": "stdout",
          "text": [
            "Yes\n"
          ]
        }
      ]
    },
    {
      "cell_type": "code",
      "source": [
        "num = 10\n",
        "if num != 5:\n",
        "    print(\"Num is not equal to 5.\")\n",
        "if num > 5:\n",
        "    print(\"Num is greater than 5.\")"
      ],
      "metadata": {
        "colab": {
          "base_uri": "https://localhost:8080/"
        },
        "id": "fRG9JTprcFI6",
        "outputId": "323e9957-b629-48e8-dcae-5c35819d4520"
      },
      "execution_count": null,
      "outputs": [
        {
          "output_type": "stream",
          "name": "stdout",
          "text": [
            "Num is not equal to 5.\n",
            "Num is greater than 5.\n"
          ]
        }
      ]
    },
    {
      "cell_type": "markdown",
      "metadata": {
        "id": "hh8PwWRmwLYH"
      },
      "source": [
        "Can we create a string to test?\n",
        "\n",
        "* ==\n",
        "* !="
      ]
    },
    {
      "cell_type": "code",
      "metadata": {
        "id": "bzgFtvsWwN4H",
        "colab": {
          "base_uri": "https://localhost:8080/"
        },
        "outputId": "58db373c-d49e-4eb7-eafe-a407910d99ff"
      },
      "source": [
        "name = \"Sim\"\n",
        "if name == \"Sim\":\n",
        "    print(\"Welcome!\")\n"
      ],
      "execution_count": null,
      "outputs": [
        {
          "output_type": "stream",
          "name": "stdout",
          "text": [
            "Welcome!\n"
          ]
        }
      ]
    },
    {
      "cell_type": "markdown",
      "metadata": {
        "id": "vL6uZVZjwt6d"
      },
      "source": [
        "What happens if we use > and < on strings?"
      ]
    },
    {
      "cell_type": "code",
      "metadata": {
        "id": "IO7URFOJww7b",
        "colab": {
          "base_uri": "https://localhost:8080/"
        },
        "outputId": "639833b8-4e8b-4863-d0f5-e8fbb01e852a"
      },
      "source": [
        "# Votes for \"error\": 3\n",
        "# Votes for \"not an error\":\n",
        "# Votes for \"count the characters\": 1\n",
        "\n",
        "name = \"Sim\"\n",
        "if name > \"Ellie\":\n",
        "    print(\"Would this print out? Why/Why not?\")"
      ],
      "execution_count": null,
      "outputs": [
        {
          "output_type": "stream",
          "name": "stdout",
          "text": [
            "Would this print out? Why/Why not?\n"
          ]
        }
      ]
    },
    {
      "cell_type": "code",
      "source": [
        "print(\"Sim\">\"Ellie\")"
      ],
      "metadata": {
        "colab": {
          "base_uri": "https://localhost:8080/"
        },
        "id": "qpJSpgNmdEzf",
        "outputId": "b19d1768-d8d9-4223-851e-59972b81168d"
      },
      "execution_count": null,
      "outputs": [
        {
          "output_type": "stream",
          "name": "stdout",
          "text": [
            "True\n"
          ]
        }
      ]
    },
    {
      "cell_type": "code",
      "source": [
        "print(\"Will\"<\"Sim\")"
      ],
      "metadata": {
        "colab": {
          "base_uri": "https://localhost:8080/"
        },
        "id": "4bvXNZUDdK4-",
        "outputId": "b45476bc-7236-4314-9541-c30004c6ba65"
      },
      "execution_count": null,
      "outputs": [
        {
          "output_type": "stream",
          "name": "stdout",
          "text": [
            "False\n"
          ]
        }
      ]
    },
    {
      "cell_type": "code",
      "source": [
        "print(\"Helen\">\"Ellie\")"
      ],
      "metadata": {
        "colab": {
          "base_uri": "https://localhost:8080/"
        },
        "id": "jSIOy5EqdNbJ",
        "outputId": "9dcbf44c-c14c-4a38-bae3-12b84b48c707"
      },
      "execution_count": null,
      "outputs": [
        {
          "output_type": "stream",
          "name": "stdout",
          "text": [
            "True\n"
          ]
        }
      ]
    },
    {
      "cell_type": "code",
      "source": [
        "# Answer: Alphabetical order"
      ],
      "metadata": {
        "id": "z1QNaFT7dWv4"
      },
      "execution_count": null,
      "outputs": []
    },
    {
      "cell_type": "code",
      "source": [
        "print(\"Sim\">\"sim\")"
      ],
      "metadata": {
        "colab": {
          "base_uri": "https://localhost:8080/"
        },
        "id": "Run6ze6Ddn_7",
        "outputId": "6dff40f1-7e89-47a3-c623-7ece8db2ddb3"
      },
      "execution_count": null,
      "outputs": [
        {
          "output_type": "stream",
          "name": "stdout",
          "text": [
            "False\n"
          ]
        }
      ]
    },
    {
      "cell_type": "code",
      "source": [
        "print(\"can\">\"cannot\")"
      ],
      "metadata": {
        "colab": {
          "base_uri": "https://localhost:8080/"
        },
        "id": "OX_X_bqZdtub",
        "outputId": "37feffa8-b02f-4944-e27e-d88e088480e9"
      },
      "execution_count": null,
      "outputs": [
        {
          "output_type": "stream",
          "name": "stdout",
          "text": [
            "False\n"
          ]
        }
      ]
    },
    {
      "cell_type": "code",
      "source": [
        "print(\"sima\"<\"simb\")"
      ],
      "metadata": {
        "colab": {
          "base_uri": "https://localhost:8080/"
        },
        "id": "TfNeMq2od6hF",
        "outputId": "bcb153e8-6aab-4df1-ee6f-1fd92f833f08"
      },
      "execution_count": null,
      "outputs": [
        {
          "output_type": "stream",
          "name": "stdout",
          "text": [
            "True\n"
          ]
        }
      ]
    },
    {
      "cell_type": "markdown",
      "metadata": {
        "id": "MK7ri_tSt05T"
      },
      "source": [
        "## else\n",
        "\n",
        "```\n",
        "if condition:\n",
        "  code_if_true\n",
        "else:\n",
        "  code_if_false\n",
        "```\n",
        "\n"
      ]
    },
    {
      "cell_type": "code",
      "source": [
        "name = \"Alicia\"\n",
        "if name == \"Sim\":\n",
        "    print(\"hello\") # happens if our condition was \"True\"\n",
        "else:\n",
        "    print(\"goodbye\") # happens if our condition was \"False\""
      ],
      "metadata": {
        "colab": {
          "base_uri": "https://localhost:8080/"
        },
        "id": "irR7hk1xeFXd",
        "outputId": "3cb54f0b-45c3-42c6-95a9-fb3f2aadd89b"
      },
      "execution_count": null,
      "outputs": [
        {
          "output_type": "stream",
          "name": "stdout",
          "text": [
            "goodbye\n"
          ]
        }
      ]
    },
    {
      "cell_type": "markdown",
      "metadata": {
        "id": "Dty2p3QOyP7V"
      },
      "source": [
        "## elif\n",
        "\n",
        "```\n",
        "if condition:\n",
        "  code_if_true\n",
        "elif condition_2:\n",
        "  code_if_condition1_false_and_condition2_true \n",
        "else:\n",
        "  code_if_false\n",
        "```\n",
        "\n",
        "* You must have exactly one `if`.\n",
        "* You may have 0 or more (as many as you'd like) `elif`.\n",
        "* You may have 0 or 1 `else`.\n",
        "* The order matters. Both for `if`, `elif`, `else` and for the order of the `elif`s."
      ]
    },
    {
      "cell_type": "code",
      "source": [
        "num = 6\n",
        "if num is 1:\n",
        "    print(\"Num is 1\")\n",
        "elif num < 5:\n",
        "    print(\"Num is less than 5\")\n",
        "else:\n",
        "    print(\"Num is less than 10\")"
      ],
      "metadata": {
        "colab": {
          "base_uri": "https://localhost:8080/"
        },
        "id": "rd9Vnj-veaB1",
        "outputId": "c6b52379-ad46-4fcc-ef7b-00c54b83aedb"
      },
      "execution_count": null,
      "outputs": [
        {
          "output_type": "stream",
          "name": "stdout",
          "text": [
            "Num is less than 10\n"
          ]
        }
      ]
    },
    {
      "cell_type": "code",
      "source": [
        "num = 4\n",
        "if num is 1:\n",
        "    print(\"Num is 1\")\n",
        "else:\n",
        "    if num < 5:\n",
        "        print(\"Num is less than 5\")"
      ],
      "metadata": {
        "colab": {
          "base_uri": "https://localhost:8080/"
        },
        "id": "uookDeZre8Qj",
        "outputId": "39fcf384-9814-4e8f-8151-80e3f5ee3a53"
      },
      "execution_count": null,
      "outputs": [
        {
          "output_type": "stream",
          "name": "stdout",
          "text": [
            "Num is less than 5\n"
          ]
        }
      ]
    },
    {
      "cell_type": "markdown",
      "metadata": {
        "id": "335MMrGxBpup"
      },
      "source": [
        "<a name='eg_ready_to_lecture_cell'></a>\n",
        "## Example: Getting Ready to Lecture Online\n",
        "\n",
        "Lecturing from home means that I have my bed in the background of my webcam. This means that each day, before I lecture, I prefer to make my bed.\n",
        "\n",
        "(a) Write some code which:\n",
        "1. Declares a boolean `bed_made` to be `True` or `False`.\n",
        "2. Depending on the value of `bed_made`, display \"Go make your bed.\" or \"Ready to lecture.\""
      ]
    },
    {
      "cell_type": "code",
      "metadata": {
        "id": "2kooY55xCCv4",
        "colab": {
          "base_uri": "https://localhost:8080/"
        },
        "outputId": "a894fa3d-e87c-4e63-9ad6-a8b1e57a42eb"
      },
      "source": [
        "bed_made = False\n",
        "if bed_made == True:\n",
        "    print('Ready to lecture.')\n",
        "else:\n",
        "    print('Go make your bed.')"
      ],
      "execution_count": null,
      "outputs": [
        {
          "output_type": "stream",
          "name": "stdout",
          "text": [
            "Go make your bed.\n"
          ]
        }
      ]
    },
    {
      "cell_type": "code",
      "source": [
        "bed_made = True\n",
        "if bed_made:\n",
        "    print('Ready to lecture.')\n",
        "else:\n",
        "    print('Go make your bed.')"
      ],
      "metadata": {
        "colab": {
          "base_uri": "https://localhost:8080/"
        },
        "id": "DYt1WRISgosS",
        "outputId": "60578596-4fac-4921-821b-72624505d378"
      },
      "execution_count": null,
      "outputs": [
        {
          "output_type": "stream",
          "name": "stdout",
          "text": [
            "Ready to lecture.\n"
          ]
        }
      ]
    },
    {
      "cell_type": "markdown",
      "metadata": {
        "id": "-7TjfhgZCDD5"
      },
      "source": [
        "(Continuing from previous question...)\n",
        "\n",
        "(b) Some days, I'm running late and I don't have time to make my bed, and end up giving lectures even if my bed is still unmade.\n",
        "\n",
        "Copy the code from the previous question and:\n",
        "1. Add a boolean `on_time` to be `True` or `False`.\n",
        "2. Depending on the values of `bed_made` and `on_time` display \"Go make your bed.\", \"Ready to lecture.\" or \"No time to make your bed. Go lecture anyway.\""
      ]
    },
    {
      "cell_type": "code",
      "metadata": {
        "id": "sI6nSImnCh9I",
        "colab": {
          "base_uri": "https://localhost:8080/"
        },
        "outputId": "dc05c9c9-542c-4af3-fd07-6c0e9f89d0fc"
      },
      "source": [
        "bed_made = True\n",
        "on_time = False\n",
        "\n",
        "if bed_made:\n",
        "    if on_time:\n",
        "        print('Ready to Lecture.')\n",
        "    elif on_time == False and not bed_made:\n",
        "        print('No time to make your bed')\n",
        "    else:\n",
        "        print('Go make your bed.')"
      ],
      "execution_count": null,
      "outputs": [
        {
          "output_type": "stream",
          "name": "stdout",
          "text": [
            "No time to make your bed\n"
          ]
        }
      ]
    },
    {
      "cell_type": "markdown",
      "metadata": {
        "id": "bvqyuwoDCiU5"
      },
      "source": [
        "(c) Can you implement the above code in a different way? (Enter at least 4 different ways of implementing the code.)\n",
        "\n"
      ]
    },
    {
      "cell_type": "code",
      "metadata": {
        "id": "3EUy369TClD4"
      },
      "source": [
        "on_time=False\n",
        "bed_made=False\n",
        "\n",
        "if bed_made==True:\n",
        "  print(\"Ready to lecture\")\n",
        "elif on_time==True: \n",
        "  print(\"Go make your bed\")\n",
        "else:\n",
        "  print(\"Go Lecture Anyway\")"
      ],
      "execution_count": null,
      "outputs": []
    },
    {
      "cell_type": "code",
      "source": [
        "bed_made  = True\n",
        "on_time = True\n",
        "\n",
        "if (bed_made == True and on_time == True):\n",
        "    print (\"Ready to lecture\")\n",
        "elif(bed_made == True and on_time == False):\n",
        "    print (\"No time to make your bed\")\n",
        "else:\n",
        "    print(\"Go lecture anyway\")"
      ],
      "metadata": {
        "id": "SWTftN7eiJGK"
      },
      "execution_count": null,
      "outputs": []
    },
    {
      "cell_type": "code",
      "source": [
        "bed_made  = True\n",
        "on_time = True\n",
        "\n",
        "if (bed_made and on_time):\n",
        "    print (\"Ready to lecture\")\n",
        "elif(bed_made and not on_time):\n",
        "    print (\"No time to make your bed\")\n",
        "else:\n",
        "    print(\"Go lecture anyway\")"
      ],
      "metadata": {
        "id": "vk2-_WjciRQK"
      },
      "execution_count": null,
      "outputs": []
    },
    {
      "cell_type": "code",
      "source": [
        "bed_made = False\n",
        "on_time = True\n",
        "\n",
        "if bed_made:\n",
        "    print(\"Ready to lecture.\")\n",
        "else:\n",
        "    if on_time:\n",
        "        print(\"Go make your bed.\")\n",
        "    else:\n",
        "        print(\"No time. Go lecture anyway.\")"
      ],
      "metadata": {
        "colab": {
          "base_uri": "https://localhost:8080/"
        },
        "id": "bFKb-uxUifd1",
        "outputId": "34f70b96-5b97-4cb4-fb55-9c71d7f585e2"
      },
      "execution_count": null,
      "outputs": [
        {
          "output_type": "stream",
          "name": "stdout",
          "text": [
            "Go make your bed.\n"
          ]
        }
      ]
    },
    {
      "cell_type": "code",
      "source": [
        "# Question: Can we use elif and else interchangably?\n",
        "\n",
        "bed_made = True\n",
        "if bed_made:\n",
        "    print('Ready to lecture.')\n",
        "else:\n",
        "    print('Go make your bed.')\n",
        "\n",
        "# How would we do this with elif?\n",
        "\n",
        "bed_made = True\n",
        "if bed_made:\n",
        "    print('Ready to lecture.')\n",
        "else:\n",
        "    print('Go make your bed.')"
      ],
      "metadata": {
        "id": "iOImCjRijAFK"
      },
      "execution_count": null,
      "outputs": []
    },
    {
      "cell_type": "markdown",
      "metadata": {
        "id": "BnwzKHfrEXIh"
      },
      "source": [
        "**A note about plagiarism in writing computer programs.**"
      ]
    },
    {
      "cell_type": "markdown",
      "metadata": {
        "id": "QTO1tK_dCzWE"
      },
      "source": [
        "(d) Implement the above code, but take into consideration that I also like to have a water bottle on my desk before I start lecturing.\n",
        "\n",
        "The outputs are now:\n",
        "* No time to get ready. Start lecturing now.\n",
        "* Ready to lecture.\n",
        "* Get your water bottle.\n",
        "* Go make your bed."
      ]
    },
    {
      "cell_type": "code",
      "metadata": {
        "id": "bdpdieZYrAIz",
        "colab": {
          "base_uri": "https://localhost:8080/"
        },
        "outputId": "26e1684e-01fc-426f-fac5-0338096d72d1"
      },
      "source": [
        "bed_made = True\n",
        "on_time = True\n",
        "water_bottle = False\n",
        "\n",
        "if bed_made == True and water_bottle == True:\n",
        "  print(\"Ready for lecture\")\n",
        "elif on_time == True and bed_made == False:\n",
        "  print(\"Go make your bed\")\n",
        "  if water_bottle == False:\n",
        "    print(\"Get your water bottle\")\n",
        "elif on_time == True and water_bottle == False:\n",
        "  print(\"Get your water bottle\")\n",
        "else:\n",
        "  print(\"No time to get ready, go lecture\")"
      ],
      "execution_count": null,
      "outputs": [
        {
          "output_type": "stream",
          "name": "stdout",
          "text": [
            "Get your water bottle\n"
          ]
        }
      ]
    },
    {
      "cell_type": "code",
      "source": [
        "bed_made = False\n",
        "on_time = False\n",
        "bottle = False\n",
        "\n",
        "if bed_made and bottle:\n",
        "   print (\"Ready to lecture.\")\n",
        "else:\n",
        "   if on_time:\n",
        "       if not bottle:\n",
        "          print(\"Go make your bed.\")\n",
        "       if not bed_made:\n",
        "           print(\"Go get water bottle.\")\n",
        "   else:\n",
        "       print(\"No time to get ready. Start lecturing now.\")"
      ],
      "metadata": {
        "id": "albZLbq4nmHi"
      },
      "execution_count": null,
      "outputs": []
    },
    {
      "cell_type": "code",
      "source": [
        "# Fixed during testing lecture\n",
        "\n",
        "def ready_to_lecture(on_time, bed_made, bottle):\n",
        "\n",
        "    if bed_made and bottle:\n",
        "        return \"Ready to lecture.\"\n",
        "    else:\n",
        "        if on_time:\n",
        "            if not bed_made:\n",
        "                return \"Go make your bed.\"\n",
        "            if not bottle:\n",
        "                return \"Go get water bottle.\"\n",
        "        else:\n",
        "            return \"No time to get ready. Start lecturing now.\""
      ],
      "metadata": {
        "id": "xVO5Qv1G00W6"
      },
      "execution_count": null,
      "outputs": []
    },
    {
      "cell_type": "markdown",
      "metadata": {
        "id": "Dq6fWE4oY9_P"
      },
      "source": [
        "# 2.2 - User Text Input\n",
        "\n",
        "* Get input from the user:\n",
        "`input()`\n",
        "* Put a prompt telling the user what they should be entering:\n",
        "`input(prompt)`\n",
        "* Save what the user inputs:\n",
        "`variable = input()`"
      ]
    },
    {
      "cell_type": "code",
      "metadata": {
        "id": "z-8NF2xdZCub",
        "colab": {
          "base_uri": "https://localhost:8080/",
          "height": 53
        },
        "outputId": "70e8555c-1b05-4dde-8b8d-e31abcdde69e"
      },
      "source": [
        "input()"
      ],
      "execution_count": null,
      "outputs": [
        {
          "name": "stdout",
          "output_type": "stream",
          "text": [
            "hello\n"
          ]
        },
        {
          "output_type": "execute_result",
          "data": {
            "text/plain": [
              "'hello'"
            ],
            "application/vnd.google.colaboratory.intrinsic+json": {
              "type": "string"
            }
          },
          "metadata": {},
          "execution_count": 47
        }
      ]
    },
    {
      "cell_type": "code",
      "metadata": {
        "id": "EAwF-3-DAaQo",
        "colab": {
          "base_uri": "https://localhost:8080/",
          "height": 53
        },
        "outputId": "0c488fa0-286c-4f3c-cb9c-3928c817c230"
      },
      "source": [
        "input(\"Enter your username: \")"
      ],
      "execution_count": null,
      "outputs": [
        {
          "name": "stdout",
          "output_type": "stream",
          "text": [
            "Enter your username: Sim\n"
          ]
        },
        {
          "output_type": "execute_result",
          "data": {
            "text/plain": [
              "'Sim'"
            ],
            "application/vnd.google.colaboratory.intrinsic+json": {
              "type": "string"
            }
          },
          "metadata": {},
          "execution_count": 48
        }
      ]
    },
    {
      "cell_type": "code",
      "source": [
        "username = input(\"Enter your username: \")\n",
        "print(f\"You entered: {username}.\")"
      ],
      "metadata": {
        "colab": {
          "base_uri": "https://localhost:8080/"
        },
        "id": "tVnGCsU3oP1j",
        "outputId": "ab03d042-cd7b-44c5-d068-0169530bfacf"
      },
      "execution_count": null,
      "outputs": [
        {
          "output_type": "stream",
          "name": "stdout",
          "text": [
            "Enter your username: Sim\n",
            "You entered: Sim.\n"
          ]
        }
      ]
    },
    {
      "cell_type": "markdown",
      "metadata": {
        "id": "fvKZYreWZcrQ"
      },
      "source": [
        "Write some code which asks the user for their name. If they enter \"Sim\", then say \"Hello Sim\". If they enter any other name, say \"Goodbye\"."
      ]
    },
    {
      "cell_type": "code",
      "metadata": {
        "id": "50fqNw9xBBGI",
        "colab": {
          "base_uri": "https://localhost:8080/"
        },
        "outputId": "fdf22618-70b2-48f6-e010-06f3966c7ef0"
      },
      "source": [
        "name = input(\"Enter your name: \")\n",
        "if name == \"Sim\":\n",
        "    print(\"Hello Sim\")\n",
        "else:\n",
        "    print(\"Goodbye\")"
      ],
      "execution_count": null,
      "outputs": [
        {
          "output_type": "stream",
          "name": "stdout",
          "text": [
            "Enter your name: Sim\n",
            "Hello Sim\n"
          ]
        }
      ]
    },
    {
      "cell_type": "markdown",
      "metadata": {
        "id": "mBrpzl21BBZ_"
      },
      "source": [
        "Write some code which asks the user for their name. If they enter one word (no spaces) display \"Hello \\<name\\>\". If they enter more than one word, display \"Goodbye\"."
      ]
    },
    {
      "cell_type": "code",
      "metadata": {
        "id": "I1aiz-OUBQqO",
        "colab": {
          "base_uri": "https://localhost:8080/"
        },
        "outputId": "e3284585-09cf-489f-9420-0eabbe0fb55c"
      },
      "source": [
        "name = input(\"Enter your name: \")\n",
        "#if ' ' not in name:\n",
        "if name.count(' ') == 0:\n",
        "    print(f\"Hello {name}\")\n",
        "else:\n",
        "    print(\"Goodbye\")"
      ],
      "execution_count": null,
      "outputs": [
        {
          "output_type": "stream",
          "name": "stdout",
          "text": [
            "Enter your name: Sim M\n",
            "Goodbye\n"
          ]
        }
      ]
    },
    {
      "cell_type": "markdown",
      "metadata": {
        "id": "Gle9bA2XwlK-"
      },
      "source": [
        "<a name='eg_password_evaluator_cell'></a>\n",
        "Example: Password Evaluator\n",
        "\n",
        "Write some code which asks the user to suggest a password, and then displays:\n",
        "* \"Strong\" if the password is 12 or more characters, and contains both upper and lower case characters\n",
        "* \"Weak\" if the password satisfies only one of the above conditions\n",
        "* \"Very weak\" if the password satisfies neither of the above conditions."
      ]
    },
    {
      "cell_type": "code",
      "metadata": {
        "id": "59M-Wcf1wrVJ",
        "colab": {
          "base_uri": "https://localhost:8080/"
        },
        "outputId": "07de6df0-8fb2-4b87-8b36-5f6d1d86bf7d"
      },
      "source": [
        "password = input(\"Enter a password: \")\n",
        "\n",
        "print(f\"Password: {password}\")\n",
        "print(f\"Password lower: {password.lower()}\")\n",
        "\n",
        "long_enough = (len(password) >= 12)\n",
        "print(f\"Long enough: {long_enough}\")\n",
        "# If password is the same as password.lower() then password had no uppercase\n",
        "# characters to change to lower case.\n",
        "contains_upper = (password.lower() != password)\n",
        "print(f\"Contains upper: {contains_upper}\")\n",
        "contains_lower = (password.upper() != password)\n",
        "print(f\"Contains lower: {contains_lower}\")\n",
        "\n",
        "contains_both_upper_and_lower = contains_upper and contains_lower\n",
        "\n",
        "if long_enough and contains_both_upper_and_lower:\n",
        "    print(\"Strong\")\n",
        "elif not long_enough and not contains_both_upper_and_lower:\n",
        "    print(\"Very Weak\")\n",
        "else:\n",
        "    print(\"Weak\")\n",
        "\n"
      ],
      "execution_count": null,
      "outputs": [
        {
          "output_type": "stream",
          "name": "stdout",
          "text": [
            "Enter a password: aaaaaaaaaaaaaa\n",
            "Password: aaaaaaaaaaaaaa\n",
            "Password lower: aaaaaaaaaaaaaa\n",
            "Long enough: True\n",
            "Contains upper: False\n",
            "Contains lower: True\n",
            "Weak\n"
          ]
        }
      ]
    },
    {
      "cell_type": "code",
      "source": [
        "# Demo of .lower()\n",
        "\n",
        "name = \"Hello There\"\n",
        "name_lower = name.lower()\n",
        "\n",
        "print(f\"{name} and {name_lower}\")"
      ],
      "metadata": {
        "colab": {
          "base_uri": "https://localhost:8080/"
        },
        "id": "Bmt4AfT2qT-W",
        "outputId": "0e15efba-a4f3-44ce-f901-c7206018dc66"
      },
      "execution_count": null,
      "outputs": [
        {
          "output_type": "stream",
          "name": "stdout",
          "text": [
            "Hello There and hello there\n"
          ]
        }
      ]
    },
    {
      "cell_type": "markdown",
      "metadata": {
        "id": "YkNbABqZcwVC"
      },
      "source": [
        "# 2.3 - Loops"
      ]
    },
    {
      "cell_type": "markdown",
      "metadata": {
        "id": "-4TeqaL8CRM9"
      },
      "source": [
        "## While Loops\n",
        "\n",
        "```\n",
        "while condition:\n",
        "  code_to_execute_while_condition_is_true\n",
        "```\n",
        "\n",
        "Following on from the [password evaluator](#eg_password_evaluator_cell) example, what happens if the user enters a password which doesn't satisfy the requirements? Can we ask them to keep entering passwords until they choose a \"strong\" password?"
      ]
    },
    {
      "cell_type": "code",
      "metadata": {
        "id": "GEpm1mgveFOJ",
        "outputId": "fc15906f-4f37-47c2-fe12-e55e43de20eb",
        "colab": {
          "base_uri": "https://localhost:8080/"
        }
      },
      "source": [
        "# Get password\n",
        "password = input(\"Enter a password: \")\n",
        "\n",
        "# Check requirements\n",
        "long_enough = (len(password) >= 12)\n",
        "contains_upper = (password.lower() != password)\n",
        "contains_lower = (password.upper() != password)\n",
        "contains_both_upper_and_lower = contains_upper and contains_lower\n",
        "\n",
        "# Display feedback\n",
        "if long_enough and contains_both_upper_and_lower:\n",
        "    print(\"Strong\")\n",
        "else:\n",
        "    if not long_enough and not contains_both_upper_and_lower:\n",
        "        print(\"Very Weak\")\n",
        "    else:\n",
        "        print(\"Weak\")\n",
        "    \n",
        "    # Get password\n",
        "    password = input(\"Enter a password: \")\n",
        "\n",
        "    # Check requirements\n",
        "    long_enough = (len(password) >= 12)\n",
        "    contains_upper = (password.lower() != password)\n",
        "    contains_lower = (password.upper() != password)\n",
        "    contains_both_upper_and_lower = contains_upper and contains_lower\n",
        "\n",
        "    # Display feedback\n",
        "    if long_enough and contains_both_upper_and_lower:\n",
        "        print(\"Strong\")\n",
        "    else:\n",
        "        if not long_enough and not contains_both_upper_and_lower:\n",
        "            print(\"Very Weak\")\n",
        "        else:\n",
        "            print(\"Weak\")\n",
        "        \n",
        "        # Get password\n",
        "        password = input(\"Enter a password: \")\n",
        "\n",
        "        # Check requirements\n",
        "        long_enough = (len(password) >= 12)\n",
        "        contains_upper = (password.lower() != password)\n",
        "        contains_lower = (password.upper() != password)\n",
        "        contains_both_upper_and_lower = contains_upper and contains_lower\n",
        "\n",
        "        # Display feedback\n",
        "        if long_enough and contains_both_upper_and_lower:\n",
        "            print(\"Strong\")\n",
        "        else:\n",
        "            if not long_enough and not contains_both_upper_and_lower:\n",
        "                print(\"Very Weak\")\n",
        "            else:\n",
        "                print(\"Weak\")\n",
        "            \n",
        "            # Get password\n",
        "            password = input(\"Enter a password: \")\n",
        "\n",
        "            # Check requirements\n",
        "            long_enough = (len(password) >= 12)\n",
        "            contains_upper = (password.lower() != password)\n",
        "            contains_lower = (password.upper() != password)\n",
        "            contains_both_upper_and_lower = contains_upper and contains_lower\n",
        "\n",
        "            # Display feedback\n",
        "            if long_enough and contains_both_upper_and_lower:\n",
        "                print(\"Strong\")\n",
        "            else:\n",
        "                if not long_enough and not contains_both_upper_and_lower:\n",
        "                    print(\"Very Weak\")\n",
        "                else:\n",
        "                    print(\"Weak\")\n",
        "    \n",
        "    \n",
        "            \n",
        "            \n",
        "        \n",
        "        "
      ],
      "execution_count": null,
      "outputs": [
        {
          "output_type": "stream",
          "name": "stdout",
          "text": [
            "Enter a password: Abcaaaaaaaaaaaaaaaaaa\n",
            "Strong\n"
          ]
        }
      ]
    },
    {
      "cell_type": "markdown",
      "metadata": {
        "id": "qK27eu5W59Xl"
      },
      "source": [
        "Is there a better way to do this?\n",
        "\n",
        "In short, we want to keep doing the same thing over and over again, until a condition is met.\n",
        "\n",
        "> Demo:\n",
        "> * Control flow in loops in general\n",
        "> * Control flow in this example\n",
        "\n"
      ]
    },
    {
      "cell_type": "code",
      "metadata": {
        "id": "WN_9P0QF6G3T",
        "outputId": "003fa22f-6c97-4b82-e2cf-c2bf17d50fc3",
        "colab": {
          "base_uri": "https://localhost:8080/"
        }
      },
      "source": [
        "strong_enough = False\n",
        "while not strong_enough:\n",
        "    # Get password\n",
        "    password = input(\"Enter a password: \")\n",
        "\n",
        "    # Check requirements\n",
        "    long_enough = (len(password) >= 12)\n",
        "    contains_upper = (password.lower() != password)\n",
        "    contains_lower = (password.upper() != password)\n",
        "    contains_both_upper_and_lower = contains_upper and contains_lower\n",
        "\n",
        "    # Display feedback\n",
        "    if long_enough and contains_both_upper_and_lower:\n",
        "        print(\"Strong\")\n",
        "        strong_enough = True\n",
        "    else:\n",
        "        if not long_enough and not contains_both_upper_and_lower:\n",
        "            print(\"Very Weak\")\n",
        "        else:\n",
        "            print(\"Weak\")\n",
        "    \n",
        "    "
      ],
      "execution_count": null,
      "outputs": [
        {
          "output_type": "stream",
          "name": "stdout",
          "text": [
            "Enter a password: Abc\n",
            "Weak\n",
            "Enter a password: Abbbbbbbbbbbbbbbbbbbb\n",
            "Strong\n"
          ]
        }
      ]
    },
    {
      "cell_type": "markdown",
      "metadata": {
        "id": "4KXXnG4tfj35"
      },
      "source": [
        "<a name='eg_square_numbers_cell'></a>\n",
        "### Example: Square Numbers\n",
        "\n",
        "> Demo:\n",
        "> * What are square numbers? How do we calculate them?\n",
        "> * How do we write this code?\n",
        "\n",
        "Write some code which takes in a number from the user, and prints out the numbers from 1 up to that number, and the squares of those numbers.\n",
        "\n",
        "```\n",
        "Enter a number: 5\n",
        "\n",
        "1 1\n",
        "2 4\n",
        "3 9\n",
        "4 16\n",
        "```"
      ]
    },
    {
      "cell_type": "code",
      "metadata": {
        "id": "rWytniVuDNXz",
        "outputId": "a37d4db7-fb9c-4c03-fd2a-ff5c530d5fda",
        "colab": {
          "base_uri": "https://localhost:8080/"
        }
      },
      "source": [
        "max = int(input(\"Enter a number: \"))\n",
        "\n",
        "i = 1\n",
        "while i < max:\n",
        "    squared = i * i\n",
        "    print(f\"{i} {squared}\")\n",
        "    i = i+1"
      ],
      "execution_count": null,
      "outputs": [
        {
          "output_type": "stream",
          "name": "stdout",
          "text": [
            "Enter a number: 5\n",
            "1 1\n",
            "2 4\n",
            "3 9\n",
            "4 16\n"
          ]
        }
      ]
    },
    {
      "cell_type": "code",
      "source": [
        "# This time checking the user enters a number before we cast it\n",
        "\n",
        "got_num = False\n",
        "while not got_num:\n",
        "    max = input(\"Enter a number: \")\n",
        "    if max.isnumeric():\n",
        "        got_num = True\n",
        "\n",
        "i = 1\n",
        "while i < int(max):\n",
        "    squared = i * i\n",
        "    print(f\"{i} {squared}\")\n",
        "    i = i+1"
      ],
      "metadata": {
        "id": "Eik8YaJ02ZNF",
        "outputId": "e8d153a9-654e-400b-9ade-965a5064831d",
        "colab": {
          "base_uri": "https://localhost:8080/"
        }
      },
      "execution_count": null,
      "outputs": [
        {
          "output_type": "stream",
          "name": "stdout",
          "text": [
            "Enter a number: a\n",
            "Enter a number: \n",
            "Enter a number: 1.5\n",
            "Enter a number: 3\n",
            "1 1\n",
            "2 4\n"
          ]
        }
      ]
    },
    {
      "cell_type": "markdown",
      "metadata": {
        "id": "MZ9ug9b_DNs3"
      },
      "source": [
        "<a name='eg_triangular_numbers_cell'></a>\n",
        "### Example: Triangular Numbers\n",
        "\n",
        "> Demo:\n",
        "> * What are triangular numbers? How do we calculate them? (This is more of an aside.)\n",
        "> * How do we write this code?\n",
        "\n",
        "Write some code which takes in a number from the user, and prints out the sum of the numbers from 1 up to and including that number. (ie 3 --> 1+2+3 = 6)\n",
        "\n",
        "```\n",
        "Enter a number: 3\n",
        "\n",
        "6\n",
        "```"
      ]
    },
    {
      "cell_type": "code",
      "metadata": {
        "id": "xc7A6Pp9JApm",
        "outputId": "02a72adc-2466-4d3e-a74a-b4a877a31a15",
        "colab": {
          "base_uri": "https://localhost:8080/"
        }
      },
      "source": [
        "num = int(input(\"Enter a number: \"))\n",
        "\n",
        "i = 1\n",
        "tri_num = 0\n",
        "while i <= num:\n",
        "    tri_num = tri_num + i\n",
        "    #print(f\"{i}  {tri_num}\")\n",
        "    i = i + 1\n",
        "print(tri_num)"
      ],
      "execution_count": null,
      "outputs": [
        {
          "output_type": "stream",
          "name": "stdout",
          "text": [
            "Enter a number: 3\n",
            "6\n"
          ]
        }
      ]
    },
    {
      "cell_type": "code",
      "source": [
        "# Another approach (from a student)\n",
        "\n",
        "x = int(input(\"Enter a number: \"))\n",
        "tri_num = x\n",
        "while x > 0:\n",
        "  x = x-1\n",
        "  tri_num = tri_num+x\n",
        "print(tri_num)"
      ],
      "metadata": {
        "id": "_6AiCPzl8HHR"
      },
      "execution_count": null,
      "outputs": []
    },
    {
      "cell_type": "markdown",
      "metadata": {
        "id": "32MS8qvuDklj"
      },
      "source": [
        "## For Loops\n",
        "\n",
        "```\n",
        "for ... in ...:\n",
        "  code_to_execute_on_each_value\n",
        "```"
      ]
    },
    {
      "cell_type": "code",
      "source": [
        "for i in range(5):\n",
        "    print(i)"
      ],
      "metadata": {
        "id": "y-jvLgZs6Zb6",
        "outputId": "928e0e47-3600-4185-c701-c64c0a6fa9cf",
        "colab": {
          "base_uri": "https://localhost:8080/"
        }
      },
      "execution_count": null,
      "outputs": [
        {
          "output_type": "stream",
          "name": "stdout",
          "text": [
            "0\n",
            "1\n",
            "2\n",
            "3\n",
            "4\n"
          ]
        }
      ]
    },
    {
      "cell_type": "code",
      "source": [
        "for i in range(20,25):\n",
        "    print(i)"
      ],
      "metadata": {
        "id": "TNu-Y_5s6fM7",
        "outputId": "35e119a8-8eee-4a50-f35a-3a32f3d659b8",
        "colab": {
          "base_uri": "https://localhost:8080/"
        }
      },
      "execution_count": null,
      "outputs": [
        {
          "output_type": "stream",
          "name": "stdout",
          "text": [
            "20\n",
            "21\n",
            "22\n",
            "23\n",
            "24\n"
          ]
        }
      ]
    },
    {
      "cell_type": "code",
      "source": [
        "for i in range(20,30,2):\n",
        "    print(i)"
      ],
      "metadata": {
        "id": "YM3Nz_Xu6k7b",
        "outputId": "1e45cdbe-b28e-4633-8845-9849d567a241",
        "colab": {
          "base_uri": "https://localhost:8080/"
        }
      },
      "execution_count": null,
      "outputs": [
        {
          "output_type": "stream",
          "name": "stdout",
          "text": [
            "20\n",
            "22\n",
            "24\n",
            "26\n",
            "28\n"
          ]
        }
      ]
    },
    {
      "cell_type": "markdown",
      "metadata": {
        "id": "o2g7udMkDpMd"
      },
      "source": [
        "Redo the [square numbers](#eg_square_numbers_cell) example and the [triangular numbers](#eg_triangular_numbers_cell) example using for loops instead of while loops."
      ]
    },
    {
      "cell_type": "code",
      "metadata": {
        "id": "LxAjyoYFDv3z",
        "outputId": "e2959d3c-e1d6-4946-ce3a-0e74cef57d43",
        "colab": {
          "base_uri": "https://localhost:8080/"
        }
      },
      "source": [
        "max = int(input(\"Enter a number: \"))\n",
        "\n",
        "for i in range(1,max):\n",
        "    squared = i * i\n",
        "    print(f\"{i} {squared}\")"
      ],
      "execution_count": null,
      "outputs": [
        {
          "output_type": "stream",
          "name": "stdout",
          "text": [
            "Enter a number: 5\n",
            "1 1\n",
            "2 4\n",
            "3 9\n",
            "4 16\n"
          ]
        }
      ]
    },
    {
      "cell_type": "code",
      "metadata": {
        "id": "H2AVVV3ZDwKE",
        "outputId": "d247506c-74a8-491d-e19a-4ab535b0d1d3",
        "colab": {
          "base_uri": "https://localhost:8080/"
        }
      },
      "source": [
        "num = int(input(\"Enter a number: \"))\n",
        "\n",
        "tri_num = 0\n",
        "for i in range(1,num+1):\n",
        "    tri_num = tri_num + i\n",
        "print(tri_num)"
      ],
      "execution_count": null,
      "outputs": [
        {
          "output_type": "stream",
          "name": "stdout",
          "text": [
            "Enter a number: 7\n",
            "28\n"
          ]
        }
      ]
    },
    {
      "cell_type": "markdown",
      "metadata": {
        "id": "obYBHYlwN0nl"
      },
      "source": [
        "### Example: Strings - one letter at a time.\n",
        "\n",
        "Write some code which prints out the letters of a string one at a time."
      ]
    },
    {
      "cell_type": "code",
      "metadata": {
        "id": "ftJ3bHMyOLk-",
        "outputId": "f0c62cdf-bd54-4a99-d462-fd624d52b2a1",
        "colab": {
          "base_uri": "https://localhost:8080/"
        }
      },
      "source": [
        "# Using a counter to access individual elements (while loop or for loop)\n",
        "\n",
        "text = \"Hi my name is Sim.\"\n",
        "\n",
        "i = 0\n",
        "while i < len(text):\n",
        "    print(text[i], end=\"\")\n",
        "    i = i + 1"
      ],
      "execution_count": null,
      "outputs": [
        {
          "output_type": "stream",
          "name": "stdout",
          "text": [
            "Hi my name is Sim."
          ]
        }
      ]
    },
    {
      "cell_type": "code",
      "source": [
        "# (now with a for loop)\n",
        "\n",
        "for i in range(len(text)):\n",
        "    print(text[i], end=\"\")"
      ],
      "metadata": {
        "id": "20yhXzcj9lqj",
        "outputId": "820aec1f-a27e-4aa0-995c-e77ecf11b080",
        "colab": {
          "base_uri": "https://localhost:8080/"
        }
      },
      "execution_count": null,
      "outputs": [
        {
          "output_type": "stream",
          "name": "stdout",
          "text": [
            "Hi my name is Sim."
          ]
        }
      ]
    },
    {
      "cell_type": "code",
      "metadata": {
        "id": "jq4lduglOOQt",
        "outputId": "79f3a3f0-4ae5-4e83-ce06-16854e030ccb",
        "colab": {
          "base_uri": "https://localhost:8080/"
        }
      },
      "source": [
        "# Using the features of a string as an iterator (for loop)\n",
        "\n",
        "for character in text:\n",
        "    print(character, end=\"\")"
      ],
      "execution_count": null,
      "outputs": [
        {
          "output_type": "stream",
          "name": "stdout",
          "text": [
            "Hi my name is Sim."
          ]
        }
      ]
    },
    {
      "cell_type": "code",
      "source": [
        "# Fancier example: Print text, but only letters which aren't 'm'\n",
        "\n",
        "for character in text:\n",
        "    if character != 'm':\n",
        "        print(character, end=\"\")"
      ],
      "metadata": {
        "id": "R66l5yq59-sB",
        "outputId": "de09645d-43fd-4149-c2e1-912ee57380f0",
        "colab": {
          "base_uri": "https://localhost:8080/"
        }
      },
      "execution_count": null,
      "outputs": [
        {
          "output_type": "stream",
          "name": "stdout",
          "text": [
            "Hi y nae is Si."
          ]
        }
      ]
    },
    {
      "cell_type": "markdown",
      "metadata": {
        "id": "HPEBS58xnYI4"
      },
      "source": [
        "### Obfuscation\n",
        "Is there another way to solve this problem?\n",
        "\n",
        "> Oh no, somaona hes dona somathing tarribla to my writing. Thay'va sweppad eround tha lattar 'e' end tha lattar 'a'"
      ]
    },
    {
      "cell_type": "code",
      "source": [
        "text = \"Oh no, somaona hes dona somathing tarribla to my writing. Thay'va sweppad eround tha lattar 'e' end tha lattar 'a'\"\n",
        "fixed_text = \"\"\n",
        "\n",
        "for character in text:\n",
        "    #fixed_text = fixed_text + character\n",
        "    if character == 'a':\n",
        "        # if the character is 'a', then we want to append an 'e'\n",
        "        fixed_text += 'e'\n",
        "    elif character == 'e':\n",
        "        # if the character is an 'e', then we want to append an 'a'\n",
        "        fixed_text += 'a'\n",
        "    else:\n",
        "        fixed_text += character\n",
        "\n",
        "print(fixed_text)"
      ],
      "metadata": {
        "id": "dCDHubZR-S3K",
        "outputId": "cb7b6163-94c5-4a21-fbe6-cfeb415fab3b",
        "colab": {
          "base_uri": "https://localhost:8080/"
        }
      },
      "execution_count": null,
      "outputs": [
        {
          "output_type": "stream",
          "name": "stdout",
          "text": [
            "Oh no, someone has done something terrible to my writing. They've swapped around the letter 'a' and the letter 'e'\n"
          ]
        }
      ]
    },
    {
      "cell_type": "markdown",
      "metadata": {
        "id": "Dsm5N-CGLh7S"
      },
      "source": [
        "# 2.4 - Bringing it all together\n",
        "\n",
        "Example: Guess my number\n",
        "\n",
        "Write a program (piece of python code) which:\n",
        "1. Asks the user to choose a number between 1 and 100 (but not enter it).\n",
        "2. The program then guesses the user's number, and asks if the user's number is higher or lower than their guess.\n",
        "3. The user then enters `H` for higher, `L` for lower or `C` for correct, depending on whether or not the program has guessed their number.\n",
        "4. The program keeps repeating steps 2 and 3 until it manages to guess the number."
      ]
    },
    {
      "cell_type": "code",
      "metadata": {
        "id": "uXw-qkGuRAdp",
        "outputId": "2a5943f2-f323-476f-8c47-aad39d10feb5",
        "colab": {
          "base_uri": "https://localhost:8080/"
        }
      },
      "source": [
        "low = 1\n",
        "high = 100\n",
        "is_correct = False\n",
        "# repeat until guess is correct\n",
        "while not is_correct:\n",
        "    # take a guess\n",
        "    guess = int((low + high)/2)\n",
        "    # get the feedback from the user\n",
        "    print(f\"My guess is: {guess}.\")\n",
        "    feedback = input((f\"How did I go? (H,L,C) \"))\n",
        "    #print(feedback)\n",
        "    if feedback == \"H\":\n",
        "        low = guess + 1\n",
        "    elif feedback == \"L\":\n",
        "        high = guess - 1\n",
        "    elif feedback == \"C\":\n",
        "        is_correct = True\n",
        "    else:\n",
        "        print(\"Please enter H if your number is higher than my guess, \\\n",
        "L if your number is lower than my guess, or C if my guess was correct.\")\n",
        "print(\"Well done for guessing my number! :)\")"
      ],
      "execution_count": null,
      "outputs": [
        {
          "output_type": "stream",
          "name": "stdout",
          "text": [
            "My guess is: 50.\n",
            "How did I go? (H,L,C) L\n",
            "My guess is: 25.\n",
            "How did I go? (H,L,C) H\n",
            "My guess is: 37.\n",
            "How did I go? (H,L,C) H\n",
            "My guess is: 43.\n",
            "How did I go? (H,L,C) bob\n",
            "Please enter H if your number is higher than my guess,         L if your number is lower than my guess, or C if my guess was correct.\n",
            "My guess is: 43.\n",
            "How did I go? (H,L,C) L\n",
            "My guess is: 40.\n",
            "How did I go? (H,L,C) H\n",
            "My guess is: 41.\n",
            "How did I go? (H,L,C) H\n",
            "My guess is: 42.\n",
            "How did I go? (H,L,C) C\n",
            "Well done for guessing my number! :)\n"
          ]
        }
      ]
    },
    {
      "cell_type": "markdown",
      "metadata": {
        "id": "k9cMFgGkuuDK"
      },
      "source": [
        "# 2.5 - Functions"
      ]
    },
    {
      "cell_type": "markdown",
      "metadata": {
        "id": "6_6ffqy8OolO"
      },
      "source": [
        "Purposes of functions:\n",
        "\n",
        "* Re-use code (\"Every line of code you don't write is bug free.\")\n",
        "* Testing\n",
        "* Abstraction / readability\n",
        "* Re-use code with different parameters\n",
        "\n",
        "(Point 1 and point 4 are different as it's often useful to use functions to not repeat ourselves even if (especially when?) the code is identical and doesn't require parameters to adapt it.)\n",
        "\n"
      ]
    },
    {
      "cell_type": "markdown",
      "metadata": {
        "id": "MZIdfUIcgHcs"
      },
      "source": [
        "Do you remember this box?\n",
        "\n",
        "Can we create a string with this box in it?\n",
        "\n",
        "```\n",
        "+-----+\n",
        "|     |\n",
        "|     |\n",
        "|     |\n",
        "+-----+\n",
        "```"
      ]
    },
    {
      "cell_type": "code",
      "metadata": {
        "id": "-CsBtFSHgWXm",
        "outputId": "07f413a6-4ceb-448e-9338-d5391cfa0725",
        "colab": {
          "base_uri": "https://localhost:8080/"
        }
      },
      "source": [
        "box = \"+\"+\"-\"*5+\"+\\n\"+(\"|\"+\" \"*5+\"|\\n\")*3+\"+\"+\"-\"*5+\"+\\n\"\n",
        "print(box)"
      ],
      "execution_count": null,
      "outputs": [
        {
          "output_type": "stream",
          "name": "stdout",
          "text": [
            "+-----+\n",
            "|     |\n",
            "|     |\n",
            "|     |\n",
            "+-----+\n",
            "\n"
          ]
        }
      ]
    },
    {
      "cell_type": "markdown",
      "metadata": {
        "id": "Hci2yRlggWua"
      },
      "source": [
        "Can we create this box too?\n",
        "\n",
        "```\n",
        "+----------+\n",
        "|          |\n",
        "|          |\n",
        "|          |\n",
        "+----------+\n",
        "```"
      ]
    },
    {
      "cell_type": "code",
      "metadata": {
        "id": "GwxjSEeygg4m",
        "outputId": "5e5f7b96-ebba-44e4-d703-972beb1073ba",
        "colab": {
          "base_uri": "https://localhost:8080/"
        }
      },
      "source": [
        "box = \"+\"+\"-\"*10+\"+\\n\"+(\"|\"+\" \"*10+\"|\\n\")*3+\"+\"+\"-\"*10+\"+\\n\"\n",
        "print(box)"
      ],
      "execution_count": null,
      "outputs": [
        {
          "output_type": "stream",
          "name": "stdout",
          "text": [
            "+----------+\n",
            "|          |\n",
            "|          |\n",
            "|          |\n",
            "+----------+\n",
            "\n"
          ]
        }
      ]
    },
    {
      "cell_type": "markdown",
      "metadata": {
        "id": "MEPnCq72ghPn"
      },
      "source": [
        "And this one too?\n",
        "\n",
        "```\n",
        "+----------+\n",
        "|          |\n",
        "+----------+\n",
        "```"
      ]
    },
    {
      "cell_type": "code",
      "source": [
        "box = \"+\"+\"-\"*10+\"+\\n\"+(\"|\"+\" \"*10+\"|\\n\")*1+\"+\"+\"-\"*10+\"+\\n\"\n",
        "print(box)"
      ],
      "metadata": {
        "id": "Rg1QdqS8FNvA",
        "outputId": "da32e688-310c-4ab9-c7e2-bc4a9f210063",
        "colab": {
          "base_uri": "https://localhost:8080/"
        }
      },
      "execution_count": null,
      "outputs": [
        {
          "output_type": "stream",
          "name": "stdout",
          "text": [
            "+----------+\n",
            "|          |\n",
            "+----------+\n",
            "\n"
          ]
        }
      ]
    },
    {
      "cell_type": "markdown",
      "metadata": {
        "id": "xyPLKx0JgqcX"
      },
      "source": [
        "By looking at what the code in each situation has in common, we can write a function which will work for any size box."
      ]
    },
    {
      "cell_type": "code",
      "metadata": {
        "id": "2-5_gU7zgxW4"
      },
      "source": [
        "def draw_box():\n",
        "    box = \"+\"+\"-\"*10+\"+\\n\"+(\"|\"+\" \"*10+\"|\\n\")*1+\"+\"+\"-\"*10+\"+\\n\"\n",
        "    print(box)\n"
      ],
      "execution_count": null,
      "outputs": []
    },
    {
      "cell_type": "code",
      "source": [
        "draw_box()"
      ],
      "metadata": {
        "id": "yfr-CLSRFiYd",
        "outputId": "6c547302-e266-46ec-bd50-78dda46a6520",
        "colab": {
          "base_uri": "https://localhost:8080/"
        }
      },
      "execution_count": null,
      "outputs": [
        {
          "output_type": "stream",
          "name": "stdout",
          "text": [
            "+----------+\n",
            "|          |\n",
            "+----------+\n",
            "\n"
          ]
        }
      ]
    },
    {
      "cell_type": "code",
      "source": [
        "# Improve it to work for different widths and heights\n",
        "# To check the type of width and height, I used: https://www.guru99.com/type-isinstance-python.html\n",
        "def draw_box(width, height):\n",
        "    if isinstance(width,int) and isinstance(height,int):\n",
        "        box = \"+\"+\"-\"*width+\"+\\n\"+(\"|\"+\" \"*width+\"|\\n\")*height+\"+\"+\"-\"*width+\"+\\n\"\n",
        "        print(box)"
      ],
      "metadata": {
        "id": "GRUUiJTuFuXl"
      },
      "execution_count": null,
      "outputs": []
    },
    {
      "cell_type": "code",
      "source": [
        "draw_box(5,5)"
      ],
      "metadata": {
        "id": "QdKAdPWgF-GU",
        "outputId": "98ab9ce0-24f4-4f00-b02f-aadc59deb401",
        "colab": {
          "base_uri": "https://localhost:8080/"
        }
      },
      "execution_count": null,
      "outputs": [
        {
          "output_type": "stream",
          "name": "stdout",
          "text": [
            "+-----+\n",
            "|     |\n",
            "|     |\n",
            "|     |\n",
            "|     |\n",
            "|     |\n",
            "+-----+\n",
            "\n"
          ]
        }
      ]
    },
    {
      "cell_type": "code",
      "source": [
        "draw_box(17,2)"
      ],
      "metadata": {
        "id": "CcoBNxrHGDTs",
        "outputId": "c62dff3c-53b6-4237-dc35-741a6074e2c3",
        "colab": {
          "base_uri": "https://localhost:8080/"
        }
      },
      "execution_count": null,
      "outputs": [
        {
          "output_type": "stream",
          "name": "stdout",
          "text": [
            "+-----------------+\n",
            "|                 |\n",
            "|                 |\n",
            "+-----------------+\n",
            "\n"
          ]
        }
      ]
    },
    {
      "cell_type": "code",
      "source": [
        "draw_box(2,10)"
      ],
      "metadata": {
        "id": "K0QGw8CyGFJf",
        "outputId": "a40e73bb-def1-4ffa-e6df-8a8568e5f0db",
        "colab": {
          "base_uri": "https://localhost:8080/"
        }
      },
      "execution_count": null,
      "outputs": [
        {
          "output_type": "stream",
          "name": "stdout",
          "text": [
            "+--+\n",
            "|  |\n",
            "|  |\n",
            "|  |\n",
            "|  |\n",
            "|  |\n",
            "|  |\n",
            "|  |\n",
            "|  |\n",
            "|  |\n",
            "|  |\n",
            "+--+\n",
            "\n"
          ]
        }
      ]
    },
    {
      "cell_type": "code",
      "source": [
        "draw_box(\"Hi\", \"There\")"
      ],
      "metadata": {
        "id": "N9YOaW7wGNjm"
      },
      "execution_count": null,
      "outputs": []
    },
    {
      "cell_type": "markdown",
      "metadata": {
        "id": "ODCWq1Ydhhha"
      },
      "source": [
        "## Returning values from functions"
      ]
    },
    {
      "cell_type": "code",
      "source": [
        "# Returning our box\n",
        "\n",
        "def make_box(width, height):\n",
        "    box = \"\"\n",
        "    if isinstance(width,int) and isinstance(height,int):\n",
        "        box = \"+\"+\"-\"*width+\"+\\n\"+(\"|\"+\" \"*width+\"|\\n\")*height+\"+\"+\"-\"*width+\"+\\n\"\n",
        "    return box"
      ],
      "metadata": {
        "id": "6TlsMRTnGyqd"
      },
      "execution_count": null,
      "outputs": []
    },
    {
      "cell_type": "code",
      "source": [
        "print(make_box(5,5))"
      ],
      "metadata": {
        "id": "h521SZ9CHAZ9",
        "outputId": "0751ed19-2967-4437-b182-60adb5d05e6e",
        "colab": {
          "base_uri": "https://localhost:8080/"
        }
      },
      "execution_count": null,
      "outputs": [
        {
          "output_type": "stream",
          "name": "stdout",
          "text": [
            "+-----+\n",
            "|     |\n",
            "|     |\n",
            "|     |\n",
            "|     |\n",
            "|     |\n",
            "+-----+\n",
            "\n"
          ]
        }
      ]
    },
    {
      "cell_type": "code",
      "source": [
        "box = make_box(5,5)\n",
        "box = box.replace(' ','*')\n",
        "print(box)"
      ],
      "metadata": {
        "id": "SpmkKaTRICDQ",
        "outputId": "791dd52f-109e-47b6-a298-972c020a0e85",
        "colab": {
          "base_uri": "https://localhost:8080/"
        }
      },
      "execution_count": null,
      "outputs": [
        {
          "output_type": "stream",
          "name": "stdout",
          "text": [
            "+-----+\n",
            "|*****|\n",
            "|*****|\n",
            "|*****|\n",
            "|*****|\n",
            "|*****|\n",
            "+-----+\n",
            "\n"
          ]
        }
      ]
    },
    {
      "cell_type": "markdown",
      "metadata": {
        "id": "AQ9aOqsThOKE"
      },
      "source": [
        "Write a function `my_len()` which takes in a string as a parameter and returns the length of the string. (You can do this using the `len()` function, but the exercise is to do it without it.)"
      ]
    },
    {
      "cell_type": "code",
      "metadata": {
        "id": "x5ZGVZ1chPok"
      },
      "source": [
        "def my_len(text):\n",
        "    length = 0\n",
        "    for character in text:\n",
        "        length += 1\n",
        "    return length"
      ],
      "execution_count": null,
      "outputs": []
    },
    {
      "cell_type": "code",
      "source": [
        "print(my_len(\"Hello there :)\"))"
      ],
      "metadata": {
        "id": "0L_rJotvIqOw",
        "outputId": "a292d35d-3fc3-4b7f-e281-75a97164fb3b",
        "colab": {
          "base_uri": "https://localhost:8080/"
        }
      },
      "execution_count": null,
      "outputs": [
        {
          "output_type": "stream",
          "name": "stdout",
          "text": [
            "14\n"
          ]
        }
      ]
    },
    {
      "cell_type": "markdown",
      "metadata": {
        "id": "m0tGIH5uhP6B"
      },
      "source": [
        "Write your own function `my_count()` which takes in a string and a character and returns the number of times that character occurs in that string."
      ]
    },
    {
      "cell_type": "code",
      "metadata": {
        "id": "qEUo2lyIh7-l"
      },
      "source": [
        "def my_count(text, looking_for):\n",
        "    num_occurances = 0\n",
        "    for character in text:\n",
        "        if character == looking_for:\n",
        "            num_occurances += 1\n",
        "    return num_occurances"
      ],
      "execution_count": null,
      "outputs": []
    },
    {
      "cell_type": "code",
      "source": [
        "print(my_count(\"Hello there :)\", 'e'))"
      ],
      "metadata": {
        "id": "xZ2YhxXTJD4C",
        "outputId": "2ab51699-4040-40f6-d51e-227b942e4353",
        "colab": {
          "base_uri": "https://localhost:8080/"
        }
      },
      "execution_count": null,
      "outputs": [
        {
          "output_type": "stream",
          "name": "stdout",
          "text": [
            "3\n"
          ]
        }
      ]
    },
    {
      "cell_type": "markdown",
      "metadata": {
        "id": "8OTO2hrWSFOl"
      },
      "source": [
        "## Functions for Readability\n",
        "\n",
        "Re-write our code from the [Password Evaluator](#eg_password_evaluator_cell) question to use functions to make the code more readable."
      ]
    },
    {
      "cell_type": "code",
      "metadata": {
        "id": "9PDD_lHbSWoJ"
      },
      "source": [
        "def is_mixed_case(pwd):\n",
        "    contains_upper = (pwd.lower() != pwd)\n",
        "    contains_lower = (pwd.upper() != pwd)\n",
        "    contains_both_upper_and_lower = contains_upper and contains_lower\n",
        "    return contains_both_upper_and_lower\n",
        "\n",
        "def is_long_enough(pwd):\n",
        "    return (len(pwd) >= 12)\n",
        "\n",
        "password = input(\"Enter a password: \")\n",
        "\n",
        "if is_long_enough(password) and is_mixed_case(password):\n",
        "    print(\"Strong\")\n",
        "elif not is_long_enough(password) and not is_mixed_case(password):\n",
        "    print(\"Very Weak\")\n",
        "else:\n",
        "    print(\"Weak\")"
      ],
      "execution_count": null,
      "outputs": []
    },
    {
      "cell_type": "markdown",
      "source": [
        "# 2.6 Fun Stuff with Conditionals, Loops, and Strings"
      ],
      "metadata": {
        "id": "azQTBldYWzlj"
      }
    },
    {
      "cell_type": "markdown",
      "source": [
        "## `split`"
      ],
      "metadata": {
        "id": "gwb9z17GXuBL"
      }
    },
    {
      "cell_type": "code",
      "source": [
        "text = \"I had a wonderful weekend.\""
      ],
      "metadata": {
        "id": "NWD2iZDIrBAB"
      },
      "execution_count": null,
      "outputs": []
    },
    {
      "cell_type": "code",
      "source": [
        "print(text.split())"
      ],
      "metadata": {
        "id": "pJelrnn-rGru",
        "outputId": "931d5dc3-7a23-4464-b100-cd14a32e4dc9",
        "colab": {
          "base_uri": "https://localhost:8080/"
        }
      },
      "execution_count": null,
      "outputs": [
        {
          "output_type": "stream",
          "name": "stdout",
          "text": [
            "['I', 'had', 'a', 'wonderful', 'weekend.']\n"
          ]
        }
      ]
    },
    {
      "cell_type": "code",
      "source": [
        "for word in text.split():\n",
        "    print(f\"~~{word}~~\")"
      ],
      "metadata": {
        "id": "EDZF5kj7rNAV",
        "outputId": "b9c3b2bf-9c6e-4b10-ed92-f3225d7c5f1f",
        "colab": {
          "base_uri": "https://localhost:8080/"
        }
      },
      "execution_count": null,
      "outputs": [
        {
          "output_type": "stream",
          "name": "stdout",
          "text": [
            "~~I~~\n",
            "~~had~~\n",
            "~~a~~\n",
            "~~wonderful~~\n",
            "~~weekend.~~\n"
          ]
        }
      ]
    },
    {
      "cell_type": "code",
      "source": [
        "for section in text.split('e'):\n",
        "    print(section)"
      ],
      "metadata": {
        "id": "4Y-sXCVxrYJ1",
        "outputId": "f7ea374c-8a94-4674-f395-214d3cbdd60b",
        "colab": {
          "base_uri": "https://localhost:8080/"
        }
      },
      "execution_count": null,
      "outputs": [
        {
          "output_type": "stream",
          "name": "stdout",
          "text": [
            "I had a wond\n",
            "rful w\n",
            "\n",
            "k\n",
            "nd.\n"
          ]
        }
      ]
    },
    {
      "cell_type": "code",
      "source": [
        "big_text = \"Some more drastic text. This has several paragraphs.\\nLike this paragraph here.\\nAnd this one here.\\n\""
      ],
      "metadata": {
        "id": "95DUkgW6rnc3"
      },
      "execution_count": null,
      "outputs": []
    },
    {
      "cell_type": "code",
      "source": [
        "print(big_text)"
      ],
      "metadata": {
        "id": "_jcc6FEEr1BF",
        "outputId": "5b2659cc-9f6f-4eb5-897b-482f445f0d01",
        "colab": {
          "base_uri": "https://localhost:8080/"
        }
      },
      "execution_count": null,
      "outputs": [
        {
          "output_type": "stream",
          "name": "stdout",
          "text": [
            "Some more drastic text. This has several paragraphs.\n",
            "Like this paragraph here.\n",
            "And this one here.\n",
            "\n"
          ]
        }
      ]
    },
    {
      "cell_type": "code",
      "source": [
        "for line in big_text.split('\\n'):\n",
        "    print(line)\n",
        "    print()"
      ],
      "metadata": {
        "id": "jBSR-rPirvE3",
        "outputId": "5bc0c449-cf70-4a94-ee3a-5d0d76c6dd03",
        "colab": {
          "base_uri": "https://localhost:8080/"
        }
      },
      "execution_count": null,
      "outputs": [
        {
          "output_type": "stream",
          "name": "stdout",
          "text": [
            "Some more drastic text. This has several paragraphs.\n",
            "\n",
            "Like this paragraph here.\n",
            "\n",
            "And this one here.\n",
            "\n",
            "\n",
            "\n"
          ]
        }
      ]
    },
    {
      "cell_type": "markdown",
      "source": [
        "## `join`"
      ],
      "metadata": {
        "id": "yjX-Z_jyXwwa"
      }
    },
    {
      "cell_type": "markdown",
      "source": [
        "Another way to implement obfuscation."
      ],
      "metadata": {
        "id": "e88wuAv7sNPF"
      }
    },
    {
      "cell_type": "code",
      "source": [
        "broken_text = text.split('e')\n",
        "reconstructed_text = '$'.join(broken_text)\n",
        "print(reconstructed_text)"
      ],
      "metadata": {
        "id": "HSIYTdnjsGo9",
        "outputId": "8d6db970-5a14-4b2d-ae7c-31c5109a7c2c",
        "colab": {
          "base_uri": "https://localhost:8080/"
        }
      },
      "execution_count": null,
      "outputs": [
        {
          "output_type": "stream",
          "name": "stdout",
          "text": [
            "I had a wond$rful w$$k$nd.\n"
          ]
        }
      ]
    },
    {
      "cell_type": "code",
      "source": [
        "split_up_words = text.split()\n",
        "line_words = '\\n'.join(split_up_words)\n",
        "print(line_words)"
      ],
      "metadata": {
        "id": "J_tR0Befsfj0",
        "outputId": "ff8e1db1-1225-4611-f088-77357f4e6106",
        "colab": {
          "base_uri": "https://localhost:8080/"
        }
      },
      "execution_count": null,
      "outputs": [
        {
          "output_type": "stream",
          "name": "stdout",
          "text": [
            "I\n",
            "had\n",
            "a\n",
            "wonderful\n",
            "weekend.\n"
          ]
        }
      ]
    },
    {
      "cell_type": "markdown",
      "source": [
        "## `in`"
      ],
      "metadata": {
        "id": "M04pwaQPXyOa"
      }
    },
    {
      "cell_type": "code",
      "source": [
        "if 'wonderful' in text:\n",
        "    print(\"I'm glad it was wonderful.\")"
      ],
      "metadata": {
        "id": "_lI38lXcszxO",
        "outputId": "779546d7-7191-4953-d693-45cdda34e6a0",
        "colab": {
          "base_uri": "https://localhost:8080/"
        }
      },
      "execution_count": null,
      "outputs": [
        {
          "output_type": "stream",
          "name": "stdout",
          "text": [
            "I'm glad it was wonderful.\n"
          ]
        }
      ]
    },
    {
      "cell_type": "markdown",
      "source": [
        "## `string.punctuation`"
      ],
      "metadata": {
        "id": "53SgexLAX0zC"
      }
    },
    {
      "cell_type": "code",
      "source": [
        "import string\n",
        "#print(string.punctuation)\n",
        "\n",
        "for character in text:\n",
        "    if character not in string.punctuation:\n",
        "        print(character, end=\"\")"
      ],
      "metadata": {
        "id": "kntHiRADs_H0",
        "outputId": "5f8b2155-85ed-4b95-ed76-158654b83ad6",
        "colab": {
          "base_uri": "https://localhost:8080/"
        }
      },
      "execution_count": null,
      "outputs": [
        {
          "output_type": "stream",
          "name": "stdout",
          "text": [
            "I had a wonderful weekend"
          ]
        }
      ]
    },
    {
      "cell_type": "markdown",
      "source": [
        "Improve your Password Evaluator to check your password has at least one punctuation character in it."
      ],
      "metadata": {
        "id": "Uy9K7IIlYLIj"
      }
    },
    {
      "cell_type": "code",
      "source": [
        "import string\n",
        "\n",
        "def is_mixed_case(pwd):\n",
        "    contains_upper = (pwd.lower() != pwd)\n",
        "    contains_lower = (pwd.upper() != pwd)\n",
        "    contains_both_upper_and_lower = contains_upper and contains_lower\n",
        "    return contains_both_upper_and_lower\n",
        "\n",
        "def is_long_enough(pwd):\n",
        "    return (len(pwd) >= 12)\n",
        "\n",
        "def has_punctuation(pwd):\n",
        "    for character in pwd:\n",
        "        if character in string.punctuation:\n",
        "            return True\n",
        "    return False\n",
        "\n",
        "def get_num_properties(pwd):\n",
        "    num_props = 0\n",
        "    if is_long_enough(pwd):\n",
        "        num_props += 1\n",
        "    if is_mixed_case(pwd):\n",
        "        num_props += 1\n",
        "    if has_punctuation(pwd):\n",
        "        num_props += 1\n",
        "    \n",
        "\n",
        "password = input(\"Enter a password: \")\n",
        "num_props = get_num_properties(password)\n",
        "\n",
        "if num_props == 3:\n",
        "    print(\"Very Strong\")\n",
        "elif num_props == 2:\n",
        "    print(\"Strong\")\n",
        "elif num_props == 1:\n",
        "    print(\"Weak\")\n",
        "else:\n",
        "    print(\"Very Weak\")"
      ],
      "metadata": {
        "id": "vLd9cSMStjsZ",
        "outputId": "a9b901ef-85ea-443f-e9b3-da6a95dda713",
        "colab": {
          "base_uri": "https://localhost:8080/"
        }
      },
      "execution_count": null,
      "outputs": [
        {
          "output_type": "stream",
          "name": "stdout",
          "text": [
            "Enter a password: AbC!!!!!!!...............\n",
            "Very Strong\n"
          ]
        }
      ]
    }
  ]
}