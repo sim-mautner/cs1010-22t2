{
  "nbformat": 4,
  "nbformat_minor": 0,
  "metadata": {
    "colab": {
      "name": "10-revision.ipynb",
      "provenance": [],
      "authorship_tag": "ABX9TyPcxP6vHec7GAlFC5+/8BJY",
      "include_colab_link": true
    },
    "kernelspec": {
      "name": "python3",
      "display_name": "Python 3"
    },
    "language_info": {
      "name": "python"
    }
  },
  "cells": [
    {
      "cell_type": "markdown",
      "metadata": {
        "id": "view-in-github",
        "colab_type": "text"
      },
      "source": [
        "<a href=\"https://colab.research.google.com/github/sim-mautner/cs1010-22t2/blob/main/10-revision.ipynb\" target=\"_parent\"><img src=\"https://colab.research.google.com/assets/colab-badge.svg\" alt=\"Open In Colab\"/></a>"
      ]
    },
    {
      "cell_type": "markdown",
      "metadata": {
        "id": "9Kgg1qEzOoS4"
      },
      "source": [
        "### 1 - Restaurant Finder\n",
        "\n",
        "The following dictionary contains some local restaurants. Each restaurant has an indicative price range and a list of dietary options. For the price range, `$` is cheap, `$$` is moderately priced and `$$$` is expensive."
      ]
    },
    {
      "cell_type": "code",
      "metadata": {
        "id": "fSyria58OniF"
      },
      "source": [
        "restaurants = {\n",
        "    \"Billy's Burgers\": {\n",
        "        \"price_range\": \"$\",\n",
        "        \"options\": []\n",
        "    },\n",
        "    \"Harbour Seafood\": {\n",
        "        \"price_range\": \"$$$\",\n",
        "        \"options\": [\"gluten-free\"]\n",
        "    },\n",
        "    \"UNSW Restaurant\": {\n",
        "        \"price_range\": \"$$\",\n",
        "        \"options\": [\"gluten-free\", \"vegetarian\"]\n",
        "    },\n",
        "    \"It's a Thai\": {\n",
        "        \"price_range\": \"$\",\n",
        "        \"options\": [\"vegetarian\"]\n",
        "    }\n",
        "}"
      ],
      "execution_count": 1,
      "outputs": []
    },
    {
      "cell_type": "markdown",
      "metadata": {
        "id": "b7_gnSeEOv0E"
      },
      "source": [
        "Suppose you and a group of friends want to get dinner together, but are unsure what local restaurants meet everyone's requirements. For example, some members of your group can only afford to eat at cheap restaurants while others are vegetarian or eat only gluten-free food.\n",
        "\n",
        "Implement the function `suitable_restaurants(restaurants, preferences)`, that, given everyone's individual preference, determines all restaurants that meet *all* preferences. See the testing cell below for examples.\n",
        "\n",
        "**NOTE:** You can assume everyone in the group specifies both a maximum price range and a list of dietary requirements."
      ]
    },
    {
      "cell_type": "code",
      "metadata": {
        "id": "ZnhkkTO6OzvS"
      },
      "source": [
        "def suitable_restaurants(restaurants, preferences):\n",
        "    suitable_restaurants = []\n",
        "    for restaurant,rest_details in restaurants.items():\n",
        "        satisfies = True # Assume it meets all needs, if I find a single need it doesn't meet, I'll set it to False\n",
        "        for pref in preferences:\n",
        "            # 1. Check price\n",
        "            if len(pref['maximum_price']) < len(rest_details['price_range']):\n",
        "                satisfies = False\n",
        "            # 2. Check options/diet\n",
        "            for item in pref['diet']:\n",
        "                if item not in rest_details['options']:\n",
        "                    satisfies = False\n",
        "        if satisfies == True:\n",
        "            suitable_restaurants.append(restaurant)\n",
        "    return suitable_restaurants"
      ],
      "execution_count": 14,
      "outputs": []
    },
    {
      "cell_type": "markdown",
      "metadata": {
        "id": "Kc8QGoOAO2Nn"
      },
      "source": [
        "Use this cell to test your function."
      ]
    },
    {
      "cell_type": "code",
      "metadata": {
        "id": "xVTTHETQO4np"
      },
      "source": [
        "assert suitable_restaurants(restaurants, [\n",
        "    { \"maximum_price\": \"$\", \"diet\": [] }\n",
        "    ]) == [\"Billy's Burgers\", \"It's a Thai\"]\n",
        "assert suitable_restaurants(restaurants, [\n",
        "    { \"maximum_price\": \"$$\", \"diet\": [] }, \n",
        "    { \"maximum_price\": \"$$$\", \"diet\": [\"vegetarian\"] }\n",
        "    ]) == [\"UNSW Restaurant\", \"It's a Thai\"]\n",
        "assert suitable_restaurants(restaurants, [\n",
        "    { \"maximum_price\": \"$\", \"diet\": [\"gluten-free\"] }, \n",
        "    { \"maximum_price\": \"$\", \"diet\": [\"vegetarian\"] }\n",
        "    ]) == []\n",
        "assert suitable_restaurants(restaurants, [\n",
        "    { \"maximum_price\": \"$$$\", \"diet\": [] }, \n",
        "    { \"maximum_price\": \"$$$\", \"diet\": [\"gluten-free\"] }\n",
        "    ]) == [\"Harbour Seafood\", \"UNSW Restaurant\"]\n",
        "assert suitable_restaurants(restaurants, [\n",
        "    { \"maximum_price\": \"$$$\", \"diet\": [\"gluten-free\", \"vegetarian\"] }\n",
        "    ]) == [\"UNSW Restaurant\"]"
      ],
      "execution_count": 15,
      "outputs": []
    }
  ]
}